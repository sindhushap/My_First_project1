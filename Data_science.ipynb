{
 "cells": [
  {
   "cell_type": "code",
   "execution_count": 80,
   "metadata": {},
   "outputs": [],
   "source": [
    "import numpy as np\n",
    "import pandas as pd\n",
    "import matplotlib.pyplot as plt\n",
    "%matplotlib inline"
   ]
  },
  {
   "cell_type": "code",
   "execution_count": 2,
   "metadata": {
    "collapsed": true
   },
   "outputs": [],
   "source": [
    "data=pd.read_excel(\"Data science.xlsx\",sheetname=\"Sheet1\",na_vales=0)"
   ]
  },
  {
   "cell_type": "code",
   "execution_count": 3,
   "metadata": {},
   "outputs": [
    {
     "data": {
      "text/html": [
       "<div>\n",
       "<style>\n",
       "    .dataframe thead tr:only-child th {\n",
       "        text-align: right;\n",
       "    }\n",
       "\n",
       "    .dataframe thead th {\n",
       "        text-align: left;\n",
       "    }\n",
       "\n",
       "    .dataframe tbody tr th {\n",
       "        vertical-align: top;\n",
       "    }\n",
       "</style>\n",
       "<table border=\"1\" class=\"dataframe\">\n",
       "  <thead>\n",
       "    <tr style=\"text-align: right;\">\n",
       "      <th></th>\n",
       "      <th>User id</th>\n",
       "      <th>Category</th>\n",
       "      <th>Category_id</th>\n",
       "      <th>Product</th>\n",
       "      <th>Product_id</th>\n",
       "      <th>Ordered Date</th>\n",
       "      <th>Price Spent</th>\n",
       "    </tr>\n",
       "  </thead>\n",
       "  <tbody>\n",
       "    <tr>\n",
       "      <th>0</th>\n",
       "      <td>2</td>\n",
       "      <td>Electronics</td>\n",
       "      <td>7</td>\n",
       "      <td>TV</td>\n",
       "      <td>1</td>\n",
       "      <td>2017-09-23</td>\n",
       "      <td>20000</td>\n",
       "    </tr>\n",
       "    <tr>\n",
       "      <th>1</th>\n",
       "      <td>1</td>\n",
       "      <td>Groceries</td>\n",
       "      <td>1</td>\n",
       "      <td>Rice</td>\n",
       "      <td>4</td>\n",
       "      <td>2017-09-24</td>\n",
       "      <td>1500</td>\n",
       "    </tr>\n",
       "    <tr>\n",
       "      <th>2</th>\n",
       "      <td>4</td>\n",
       "      <td>Transit</td>\n",
       "      <td>13</td>\n",
       "      <td>Cab Booking</td>\n",
       "      <td>9</td>\n",
       "      <td>2017-09-24</td>\n",
       "      <td>300</td>\n",
       "    </tr>\n",
       "    <tr>\n",
       "      <th>3</th>\n",
       "      <td>1</td>\n",
       "      <td>Electronics</td>\n",
       "      <td>7</td>\n",
       "      <td>Mobile</td>\n",
       "      <td>2</td>\n",
       "      <td>2017-09-25</td>\n",
       "      <td>15000</td>\n",
       "    </tr>\n",
       "    <tr>\n",
       "      <th>4</th>\n",
       "      <td>3</td>\n",
       "      <td>Groceries</td>\n",
       "      <td>1</td>\n",
       "      <td>Atta</td>\n",
       "      <td>5</td>\n",
       "      <td>2017-09-25</td>\n",
       "      <td>500</td>\n",
       "    </tr>\n",
       "  </tbody>\n",
       "</table>\n",
       "</div>"
      ],
      "text/plain": [
       "   User id     Category  Category_id      Product  Product_id Ordered Date  \\\n",
       "0        2  Electronics            7           TV           1   2017-09-23   \n",
       "1        1    Groceries            1         Rice           4   2017-09-24   \n",
       "2        4      Transit           13  Cab Booking           9   2017-09-24   \n",
       "3        1  Electronics            7       Mobile           2   2017-09-25   \n",
       "4        3    Groceries            1         Atta           5   2017-09-25   \n",
       "\n",
       "   Price Spent  \n",
       "0        20000  \n",
       "1         1500  \n",
       "2          300  \n",
       "3        15000  \n",
       "4          500  "
      ]
     },
     "execution_count": 3,
     "metadata": {},
     "output_type": "execute_result"
    }
   ],
   "source": [
    "data.head()"
   ]
  },
  {
   "cell_type": "code",
   "execution_count": 4,
   "metadata": {},
   "outputs": [
    {
     "name": "stdout",
     "output_type": "stream",
     "text": [
      "<class 'pandas.core.frame.DataFrame'>\n",
      "RangeIndex: 42 entries, 0 to 41\n",
      "Data columns (total 7 columns):\n",
      "User id         42 non-null int64\n",
      "Category        42 non-null object\n",
      "Category_id     42 non-null int64\n",
      "Product         42 non-null object\n",
      "Product_id      42 non-null int64\n",
      "Ordered Date    42 non-null datetime64[ns]\n",
      "Price Spent     42 non-null int64\n",
      "dtypes: datetime64[ns](1), int64(4), object(2)\n",
      "memory usage: 2.4+ KB\n"
     ]
    }
   ],
   "source": [
    "data.info()"
   ]
  },
  {
   "cell_type": "code",
   "execution_count": 5,
   "metadata": {},
   "outputs": [
    {
     "data": {
      "text/html": [
       "<div>\n",
       "<style>\n",
       "    .dataframe thead tr:only-child th {\n",
       "        text-align: right;\n",
       "    }\n",
       "\n",
       "    .dataframe thead th {\n",
       "        text-align: left;\n",
       "    }\n",
       "\n",
       "    .dataframe tbody tr th {\n",
       "        vertical-align: top;\n",
       "    }\n",
       "</style>\n",
       "<table border=\"1\" class=\"dataframe\">\n",
       "  <thead>\n",
       "    <tr style=\"text-align: right;\">\n",
       "      <th></th>\n",
       "      <th>User id</th>\n",
       "      <th>Category_id</th>\n",
       "      <th>Product_id</th>\n",
       "      <th>Price Spent</th>\n",
       "    </tr>\n",
       "  </thead>\n",
       "  <tbody>\n",
       "    <tr>\n",
       "      <th>count</th>\n",
       "      <td>42.000000</td>\n",
       "      <td>42.000000</td>\n",
       "      <td>42.000000</td>\n",
       "      <td>42.000000</td>\n",
       "    </tr>\n",
       "    <tr>\n",
       "      <th>mean</th>\n",
       "      <td>2.547619</td>\n",
       "      <td>7.809524</td>\n",
       "      <td>6.714286</td>\n",
       "      <td>6745.238095</td>\n",
       "    </tr>\n",
       "    <tr>\n",
       "      <th>std</th>\n",
       "      <td>1.108776</td>\n",
       "      <td>4.191967</td>\n",
       "      <td>3.006381</td>\n",
       "      <td>11377.324525</td>\n",
       "    </tr>\n",
       "    <tr>\n",
       "      <th>min</th>\n",
       "      <td>1.000000</td>\n",
       "      <td>1.000000</td>\n",
       "      <td>1.000000</td>\n",
       "      <td>200.000000</td>\n",
       "    </tr>\n",
       "    <tr>\n",
       "      <th>25%</th>\n",
       "      <td>2.000000</td>\n",
       "      <td>5.000000</td>\n",
       "      <td>4.000000</td>\n",
       "      <td>500.000000</td>\n",
       "    </tr>\n",
       "    <tr>\n",
       "      <th>50%</th>\n",
       "      <td>2.500000</td>\n",
       "      <td>7.000000</td>\n",
       "      <td>8.000000</td>\n",
       "      <td>1650.000000</td>\n",
       "    </tr>\n",
       "    <tr>\n",
       "      <th>75%</th>\n",
       "      <td>3.750000</td>\n",
       "      <td>11.000000</td>\n",
       "      <td>9.000000</td>\n",
       "      <td>9000.000000</td>\n",
       "    </tr>\n",
       "    <tr>\n",
       "      <th>max</th>\n",
       "      <td>4.000000</td>\n",
       "      <td>13.000000</td>\n",
       "      <td>10.000000</td>\n",
       "      <td>50000.000000</td>\n",
       "    </tr>\n",
       "  </tbody>\n",
       "</table>\n",
       "</div>"
      ],
      "text/plain": [
       "         User id  Category_id  Product_id   Price Spent\n",
       "count  42.000000    42.000000   42.000000     42.000000\n",
       "mean    2.547619     7.809524    6.714286   6745.238095\n",
       "std     1.108776     4.191967    3.006381  11377.324525\n",
       "min     1.000000     1.000000    1.000000    200.000000\n",
       "25%     2.000000     5.000000    4.000000    500.000000\n",
       "50%     2.500000     7.000000    8.000000   1650.000000\n",
       "75%     3.750000    11.000000    9.000000   9000.000000\n",
       "max     4.000000    13.000000   10.000000  50000.000000"
      ]
     },
     "execution_count": 5,
     "metadata": {},
     "output_type": "execute_result"
    }
   ],
   "source": [
    "data.describe()"
   ]
  },
  {
   "cell_type": "code",
   "execution_count": 6,
   "metadata": {},
   "outputs": [
    {
     "data": {
      "text/plain": [
       "User id         0\n",
       "Category        0\n",
       "Category_id     0\n",
       "Product         0\n",
       "Product_id      0\n",
       "Ordered Date    0\n",
       "Price Spent     0\n",
       "dtype: int64"
      ]
     },
     "execution_count": 6,
     "metadata": {},
     "output_type": "execute_result"
    }
   ],
   "source": [
    "data.isnull().sum()"
   ]
  },
  {
   "cell_type": "code",
   "execution_count": 7,
   "metadata": {},
   "outputs": [
    {
     "data": {
      "text/plain": [
       "Electronics             10\n",
       "Apparels                 9\n",
       "Transit                  9\n",
       "Movies/Entertainment     7\n",
       "Groceries                7\n",
       "Name: Category, dtype: int64"
      ]
     },
     "execution_count": 7,
     "metadata": {},
     "output_type": "execute_result"
    }
   ],
   "source": [
    "data[\"Category\"].value_counts()"
   ]
  },
  {
   "cell_type": "code",
   "execution_count": 8,
   "metadata": {},
   "outputs": [
    {
     "name": "stdout",
     "output_type": "stream",
     "text": [
      "['Apparels' 'Electronics' 'Groceries' 'Movies/Entertainment' 'Transit']\n",
      "[ 1  5  7 11 13]\n"
     ]
    }
   ],
   "source": [
    "print(np.unique(data[\"Category\"]))\n",
    "print(np.unique(data[\"Category_id\"]))"
   ]
  },
  {
   "cell_type": "code",
   "execution_count": 9,
   "metadata": {},
   "outputs": [
    {
     "data": {
      "text/plain": [
       "Category\n",
       "Apparels                11\n",
       "Electronics              7\n",
       "Groceries                1\n",
       "Movies/Entertainment     5\n",
       "Transit                 13\n",
       "Name: Category_id, dtype: int64"
      ]
     },
     "execution_count": 9,
     "metadata": {},
     "output_type": "execute_result"
    }
   ],
   "source": [
    "data.groupby([\"Category\"])[\"Category_id\"].max()"
   ]
  },
  {
   "cell_type": "code",
   "execution_count": 34,
   "metadata": {},
   "outputs": [],
   "source": [
    "#category=[]\n",
    "#for i in data[\"Category\"]:\n",
    "    #if i not in category:\n",
    "        #category.append(i)\n",
    "        #print(data.loc[data.Category==i,\"Category_id\"])"
   ]
  },
  {
   "cell_type": "code",
   "execution_count": 11,
   "metadata": {},
   "outputs": [
    {
     "data": {
      "text/plain": [
       "7     10\n",
       "13     9\n",
       "11     9\n",
       "5      7\n",
       "1      7\n",
       "Name: Category_id, dtype: int64"
      ]
     },
     "execution_count": 11,
     "metadata": {},
     "output_type": "execute_result"
    }
   ],
   "source": [
    "data[\"Category_id\"].value_counts()"
   ]
  },
  {
   "cell_type": "code",
   "execution_count": 12,
   "metadata": {},
   "outputs": [
    {
     "name": "stdout",
     "output_type": "stream",
     "text": [
      "Clothing         9\n",
      "Cab Booking      9\n",
      "Movie Booking    7\n",
      "Mobile           5\n",
      "Rice             3\n",
      "TV               2\n",
      "Refrigerator     2\n",
      "Dal              2\n",
      "Atta             2\n",
      "Oven             1\n",
      "Name: Product, dtype: int64\n",
      "9     9\n",
      "8     9\n",
      "10    7\n",
      "2     5\n",
      "4     3\n",
      "6     2\n",
      "5     2\n",
      "3     2\n",
      "1     2\n",
      "7     1\n",
      "Name: Product_id, dtype: int64\n"
     ]
    }
   ],
   "source": [
    "print(data[\"Product\"].value_counts())\n",
    "print(data[\"Product_id\"].value_counts())"
   ]
  },
  {
   "cell_type": "code",
   "execution_count": 13,
   "metadata": {},
   "outputs": [
    {
     "data": {
      "text/plain": [
       "Product\n",
       "Atta              5\n",
       "Cab Booking       9\n",
       "Clothing          8\n",
       "Dal               6\n",
       "Mobile            2\n",
       "Movie Booking    10\n",
       "Oven              7\n",
       "Refrigerator      3\n",
       "Rice              4\n",
       "TV                1\n",
       "Name: Product_id, dtype: int64"
      ]
     },
     "execution_count": 13,
     "metadata": {},
     "output_type": "execute_result"
    }
   ],
   "source": [
    "data.groupby([\"Product\"])[\"Product_id\"].max()"
   ]
  },
  {
   "cell_type": "code",
   "execution_count": 14,
   "metadata": {},
   "outputs": [
    {
     "name": "stdout",
     "output_type": "stream",
     "text": [
      "User id  Category_id  Product_id\n",
      "1        1            4              1500.000000\n",
      "                      5               200.000000\n",
      "         5            10              900.000000\n",
      "         7            2             15000.000000\n",
      "         11           8              2000.000000\n",
      "         13           9               600.000000\n",
      "2        1            4              1800.000000\n",
      "                      6               400.000000\n",
      "         5            10              900.000000\n",
      "         7            1             20000.000000\n",
      "                      2             10000.000000\n",
      "                      7              6000.000000\n",
      "         11           8              8166.666667\n",
      "         13           9               350.000000\n",
      "3        1            4              1200.000000\n",
      "                      5               500.000000\n",
      "         5            10              450.000000\n",
      "         7            3             30000.000000\n",
      "         11           8              6000.000000\n",
      "         13           9               333.333333\n",
      "4        1            6              2000.000000\n",
      "         5            10              500.000000\n",
      "         7            1             40000.000000\n",
      "                      2             20000.000000\n",
      "                      3             50000.000000\n",
      "         11           8              2666.666667\n",
      "         13           9               350.000000\n",
      "Name: Price Spent, dtype: float64\n"
     ]
    }
   ],
   "source": [
    "print(data.groupby([\"User id\",\"Category_id\",\"Product_id\"])[\"Price Spent\"].mean())"
   ]
  },
  {
   "cell_type": "code",
   "execution_count": 15,
   "metadata": {
    "collapsed": true
   },
   "outputs": [],
   "source": [
    "#seggrigating by users\n",
    "Users_data=data.groupby(\"User id\")\n",
    "p=(group.sort_index(by=\"Category_id\", ascending=True) for Product_id,group in Users_data)"
   ]
  },
  {
   "cell_type": "code",
   "execution_count": 16,
   "metadata": {},
   "outputs": [
    {
     "name": "stdout",
     "output_type": "stream",
     "text": [
      "    User id              Category  Category_id        Product  Product_id  \\\n",
      "1         1             Groceries            1           Rice           4   \n",
      "21        1             Groceries            1           Atta           5   \n",
      "13        1  Movies/Entertainment            5  Movie Booking          10   \n",
      "3         1           Electronics            7         Mobile           2   \n",
      "30        1           Electronics            7         Mobile           2   \n",
      "36        1           Electronics            7         Mobile           2   \n",
      "16        1              Apparels           11       Clothing           8   \n",
      "8         1               Transit           13    Cab Booking           9   \n",
      "29        1               Transit           13    Cab Booking           9   \n",
      "\n",
      "   Ordered Date  Price Spent  \n",
      "1    2017-09-24         1500  \n",
      "21   2017-10-11          200  \n",
      "13   2017-10-04          900  \n",
      "3    2017-09-25        15000  \n",
      "30   2017-10-16        10000  \n",
      "36   2017-10-20        20000  \n",
      "16   2017-10-07         2000  \n",
      "8    2017-09-29         1000  \n",
      "29   2017-10-16          200  \n",
      "    User id              Category  Category_id        Product  Product_id  \\\n",
      "12        2             Groceries            1           Rice           4   \n",
      "27        2             Groceries            1            Dal           6   \n",
      "9         2  Movies/Entertainment            5  Movie Booking          10   \n",
      "28        2  Movies/Entertainment            5  Movie Booking          10   \n",
      "0         2           Electronics            7             TV           1   \n",
      "20        2           Electronics            7         Mobile           2   \n",
      "40        2           Electronics            7           Oven           7   \n",
      "5         2              Apparels           11       Clothing           8   \n",
      "33        2              Apparels           11       Clothing           8   \n",
      "37        2              Apparels           11       Clothing           8   \n",
      "17        2               Transit           13    Cab Booking           9   \n",
      "26        2               Transit           13    Cab Booking           9   \n",
      "\n",
      "   Ordered Date  Price Spent  \n",
      "12   2017-10-03         1800  \n",
      "27   2017-10-14          400  \n",
      "9    2017-09-30         1200  \n",
      "28   2017-10-14          600  \n",
      "0    2017-09-23        20000  \n",
      "20   2017-10-11        10000  \n",
      "40   2017-10-22         6000  \n",
      "5    2017-09-26         2500  \n",
      "33   2017-10-19        20000  \n",
      "37   2017-10-20         2000  \n",
      "17   2017-10-08          400  \n",
      "26   2017-10-14          300  \n",
      "    User id              Category  Category_id        Product  Product_id  \\\n",
      "4         3             Groceries            1           Atta           5   \n",
      "24        3             Groceries            1           Rice           4   \n",
      "11        3  Movies/Entertainment            5  Movie Booking          10   \n",
      "31        3  Movies/Entertainment            5  Movie Booking          10   \n",
      "7         3           Electronics            7   Refrigerator           3   \n",
      "18        3              Apparels           11       Clothing           8   \n",
      "23        3              Apparels           11       Clothing           8   \n",
      "15        3               Transit           13    Cab Booking           9   \n",
      "35        3               Transit           13    Cab Booking           9   \n",
      "38        3               Transit           13    Cab Booking           9   \n",
      "\n",
      "   Ordered Date  Price Spent  \n",
      "4    2017-09-25          500  \n",
      "24   2017-10-13         1200  \n",
      "11   2017-10-02          600  \n",
      "31   2017-10-16          300  \n",
      "7    2017-09-28        30000  \n",
      "18   2017-10-10         2000  \n",
      "23   2017-10-13        10000  \n",
      "15   2017-10-05          300  \n",
      "35   2017-10-19          500  \n",
      "38   2017-10-20          200  \n",
      "    User id              Category  Category_id        Product  Product_id  \\\n",
      "6         4             Groceries            1            Dal           6   \n",
      "14        4  Movies/Entertainment            5  Movie Booking          10   \n",
      "22        4  Movies/Entertainment            5  Movie Booking          10   \n",
      "10        4           Electronics            7         Mobile           2   \n",
      "32        4           Electronics            7             TV           1   \n",
      "34        4           Electronics            7   Refrigerator           3   \n",
      "19        4              Apparels           11       Clothing           8   \n",
      "25        4              Apparels           11       Clothing           8   \n",
      "41        4              Apparels           11       Clothing           8   \n",
      "2         4               Transit           13    Cab Booking           9   \n",
      "39        4               Transit           13    Cab Booking           9   \n",
      "\n",
      "   Ordered Date  Price Spent  \n",
      "6    2017-09-28         2000  \n",
      "14   2017-10-04          500  \n",
      "22   2017-10-12          500  \n",
      "10   2017-10-02        20000  \n",
      "32   2017-10-16        40000  \n",
      "34   2017-10-19        50000  \n",
      "19   2017-10-10         3000  \n",
      "25   2017-10-14         3000  \n",
      "41   2017-10-22         2000  \n",
      "2    2017-09-24          300  \n",
      "39   2017-10-20          400  \n"
     ]
    },
    {
     "name": "stderr",
     "output_type": "stream",
     "text": [
      "C:\\Users\\merus\\Anaconda3\\lib\\site-packages\\ipykernel_launcher.py:3: FutureWarning: by argument to sort_index is deprecated, pls use .sort_values(by=...)\n",
      "  This is separate from the ipykernel package so we can avoid doing imports until\n"
     ]
    }
   ],
   "source": [
    "for i in p:\n",
    "    print(i)"
   ]
  },
  {
   "cell_type": "code",
   "execution_count": 26,
   "metadata": {},
   "outputs": [
    {
     "data": {
      "text/html": [
       "<div>\n",
       "<style>\n",
       "    .dataframe thead tr:only-child th {\n",
       "        text-align: right;\n",
       "    }\n",
       "\n",
       "    .dataframe thead th {\n",
       "        text-align: left;\n",
       "    }\n",
       "\n",
       "    .dataframe tbody tr th {\n",
       "        vertical-align: top;\n",
       "    }\n",
       "</style>\n",
       "<table border=\"1\" class=\"dataframe\">\n",
       "  <thead>\n",
       "    <tr style=\"text-align: right;\">\n",
       "      <th></th>\n",
       "      <th>Category_id</th>\n",
       "      <th>Product_id</th>\n",
       "      <th>Price Spent</th>\n",
       "    </tr>\n",
       "  </thead>\n",
       "  <tbody>\n",
       "    <tr>\n",
       "      <th>0</th>\n",
       "      <td>7</td>\n",
       "      <td>1</td>\n",
       "      <td>20000</td>\n",
       "    </tr>\n",
       "    <tr>\n",
       "      <th>1</th>\n",
       "      <td>1</td>\n",
       "      <td>4</td>\n",
       "      <td>1500</td>\n",
       "    </tr>\n",
       "    <tr>\n",
       "      <th>2</th>\n",
       "      <td>13</td>\n",
       "      <td>9</td>\n",
       "      <td>300</td>\n",
       "    </tr>\n",
       "    <tr>\n",
       "      <th>3</th>\n",
       "      <td>7</td>\n",
       "      <td>2</td>\n",
       "      <td>15000</td>\n",
       "    </tr>\n",
       "    <tr>\n",
       "      <th>4</th>\n",
       "      <td>1</td>\n",
       "      <td>5</td>\n",
       "      <td>500</td>\n",
       "    </tr>\n",
       "  </tbody>\n",
       "</table>\n",
       "</div>"
      ],
      "text/plain": [
       "   Category_id  Product_id  Price Spent\n",
       "0            7           1        20000\n",
       "1            1           4         1500\n",
       "2           13           9          300\n",
       "3            7           2        15000\n",
       "4            1           5          500"
      ]
     },
     "execution_count": 26,
     "metadata": {},
     "output_type": "execute_result"
    }
   ],
   "source": [
    "data1=data.drop([\"User id\",\"Product\",\"Category\",\"Ordered Date\"],axis=1)\n",
    "data1.head()"
   ]
  },
  {
   "cell_type": "code",
   "execution_count": 27,
   "metadata": {
    "collapsed": true
   },
   "outputs": [],
   "source": [
    "# clustering \n",
    "from sklearn.cluster import KMeans"
   ]
  },
  {
   "cell_type": "code",
   "execution_count": 28,
   "metadata": {},
   "outputs": [
    {
     "data": {
      "text/plain": [
       "numpy.ndarray"
      ]
     },
     "execution_count": 28,
     "metadata": {},
     "output_type": "execute_result"
    }
   ],
   "source": [
    "X=data1.values\n",
    "type(X)"
   ]
  },
  {
   "cell_type": "code",
   "execution_count": 29,
   "metadata": {},
   "outputs": [
    {
     "data": {
      "image/png": "[encoded data removed]",
      "text/plain": [
       "<matplotlib.figure.Figure at 0x5859385f98>"
      ]
     },
     "metadata": {},
     "output_type": "display_data"
    }
   ],
   "source": [
    "wcss=[]\n",
    "for i in range(1,11):\n",
    "    kmeans=KMeans(n_clusters=i,init=\"k-means++\",max_iter=300,n_init=10,random_state=0)\n",
    "    kmeans.fit(X)\n",
    "    wcss.append(kmeans.inertia_)\n",
    "plt.plot(range(1,11),wcss)\n",
    "plt.title(\"Elbow Curve\")\n",
    "plt.xlabel(\"Number of clusters\")\n",
    "plt.ylabel(\"wcss\")\n",
    "plt.show()"
   ]
  },
  {
   "cell_type": "code",
   "execution_count": 30,
   "metadata": {
    "collapsed": true
   },
   "outputs": [],
   "source": [
    "kmeans=KMeans(n_clusters=3,init=\"k-means++\",max_iter=300,n_init=10,random_state=0)\n",
    "y_means=kmeans.fit_predict(X)"
   ]
  },
  {
   "cell_type": "code",
   "execution_count": 31,
   "metadata": {},
   "outputs": [
    {
     "name": "stdout",
     "output_type": "stream",
     "text": [
      "[[  7.83870968e+00   8.00000000e+00   1.23548387e+03]\n",
      " [  8.00000000e+00   3.37500000e+00   1.56250000e+04]\n",
      " [  7.00000000e+00   2.33333333e+00   4.00000000e+04]]\n"
     ]
    }
   ],
   "source": [
    "centroids = kmeans.cluster_centers_\n",
    "labels = kmeans.labels_\n",
    "print(centroids)"
   ]
  },
  {
   "cell_type": "code",
   "execution_count": 36,
   "metadata": {},
   "outputs": [
    {
     "name": "stdout",
     "output_type": "stream",
     "text": [
      "[1 0 0 1 0 0 0 2 0 0 1 0 0 0 0 0 0 0 0 0 1 0 0 1 0 0 0 0 0 0 1 0 2 1 2 0 1\n",
      " 0 0 0 0 0]\n"
     ]
    }
   ],
   "source": [
    "print(labels)"
   ]
  },
  {
   "cell_type": "code",
   "execution_count": 37,
   "metadata": {},
   "outputs": [],
   "source": [
    "data[\"Ordered Date\"]=pd.to_datetime(data[\"Ordered Date\"])"
   ]
  },
  {
   "cell_type": "code",
   "execution_count": 41,
   "metadata": {},
   "outputs": [
    {
     "data": {
      "text/plain": [
       "User id                  int64\n",
       "Category                object\n",
       "Category_id              int64\n",
       "Product                 object\n",
       "Product_id               int64\n",
       "Ordered Date    datetime64[ns]\n",
       "Price Spent              int64\n",
       "dtype: object"
      ]
     },
     "execution_count": 41,
     "metadata": {},
     "output_type": "execute_result"
    }
   ],
   "source": [
    "data.dtypes"
   ]
  },
  {
   "cell_type": "code",
   "execution_count": 55,
   "metadata": {},
   "outputs": [
    {
     "name": "stdout",
     "output_type": "stream",
     "text": [
      "2017-09-23 00:00:00\n",
      "2017-10-22 00:00:00\n"
     ]
    }
   ],
   "source": [
    "OrderedDate_min=data[\"Ordered Date\"].min()\n",
    "OrderedDate_max=data[\"Ordered Date\"].max()\n",
    "print(OrderedDate_min)\n",
    "print(OrderedDate_max)"
   ]
  },
  {
   "cell_type": "code",
   "execution_count": 57,
   "metadata": {},
   "outputs": [
    {
     "name": "stdout",
     "output_type": "stream",
     "text": [
      "29 days 00:00:00\n"
     ]
    }
   ],
   "source": [
    "print(OrderedDate_max-OrderedDate_min)"
   ]
  },
  {
   "cell_type": "code",
   "execution_count": 58,
   "metadata": {},
   "outputs": [
    {
     "data": {
      "text/plain": [
       "0      Saturday\n",
       "1        Sunday\n",
       "2        Sunday\n",
       "3        Monday\n",
       "4        Monday\n",
       "5       Tuesday\n",
       "6      Thursday\n",
       "7      Thursday\n",
       "8        Friday\n",
       "9      Saturday\n",
       "10       Monday\n",
       "11       Monday\n",
       "12      Tuesday\n",
       "13    Wednesday\n",
       "14    Wednesday\n",
       "15     Thursday\n",
       "16     Saturday\n",
       "17       Sunday\n",
       "18      Tuesday\n",
       "19      Tuesday\n",
       "20    Wednesday\n",
       "21    Wednesday\n",
       "22     Thursday\n",
       "23       Friday\n",
       "24       Friday\n",
       "25     Saturday\n",
       "26     Saturday\n",
       "27     Saturday\n",
       "28     Saturday\n",
       "29       Monday\n",
       "30       Monday\n",
       "31       Monday\n",
       "32       Monday\n",
       "33     Thursday\n",
       "34     Thursday\n",
       "35     Thursday\n",
       "36       Friday\n",
       "37       Friday\n",
       "38       Friday\n",
       "39       Friday\n",
       "40       Sunday\n",
       "41       Sunday\n",
       "Name: Ordered Date, dtype: object"
      ]
     },
     "execution_count": 58,
     "metadata": {},
     "output_type": "execute_result"
    }
   ],
   "source": [
    "data[\"Ordered Date\"].dt.weekday_name"
   ]
  },
  {
   "cell_type": "code",
   "execution_count": 68,
   "metadata": {},
   "outputs": [
    {
     "data": {
      "text/plain": [
       "2017-10-14    4\n",
       "2017-10-16    4\n",
       "2017-10-20    4\n",
       "2017-10-19    3\n",
       "2017-09-28    2\n",
       "2017-10-04    2\n",
       "2017-10-10    2\n",
       "2017-10-22    2\n",
       "2017-10-02    2\n",
       "2017-10-11    2\n",
       "2017-09-25    2\n",
       "2017-09-24    2\n",
       "2017-10-13    2\n",
       "2017-09-23    1\n",
       "2017-10-12    1\n",
       "2017-09-30    1\n",
       "2017-10-05    1\n",
       "2017-10-07    1\n",
       "2017-10-08    1\n",
       "2017-09-26    1\n",
       "2017-10-03    1\n",
       "2017-09-29    1\n",
       "Name: Ordered Date, dtype: int64"
      ]
     },
     "execution_count": 68,
     "metadata": {},
     "output_type": "execute_result"
    }
   ],
   "source": [
    "data[\"Ordered Date\"].value_counts()"
   ]
  },
  {
   "cell_type": "code",
   "execution_count": 101,
   "metadata": {},
   "outputs": [
    {
     "data": {
      "text/plain": [
       "0    5\n",
       "1    6\n",
       "2    6\n",
       "3    0\n",
       "4    0\n",
       "Name: Ordered Date, dtype: int64"
      ]
     },
     "execution_count": 101,
     "metadata": {},
     "output_type": "execute_result"
    }
   ],
   "source": [
    "days=data[\"Ordered Date\"].dt.weekday\n",
    "days.head()"
   ]
  },
  {
   "cell_type": "code",
   "execution_count": 104,
   "metadata": {},
   "outputs": [
    {
     "data": {
      "text/plain": [
       "0    8\n",
       "1    4\n",
       "2    4\n",
       "3    7\n",
       "4    7\n",
       "5    7\n",
       "6    5\n",
       "Name: Ordered Date, dtype: int64"
      ]
     },
     "execution_count": 104,
     "metadata": {},
     "output_type": "execute_result"
    }
   ],
   "source": [
    "days.value_counts().sort_index()"
   ]
  },
  {
   "cell_type": "code",
   "execution_count": 105,
   "metadata": {},
   "outputs": [
    {
     "data": {
      "text/plain": [
       "<matplotlib.axes._subplots.AxesSubplot at 0x5859cf8a20>"
      ]
     },
     "execution_count": 105,
     "metadata": {},
     "output_type": "execute_result"
    },
    {
     "data": {
      "image/png": "[encoded data removed]",
      "text/plain": [
       "<matplotlib.figure.Figure at 0x5859e574a8>"
      ]
     },
     "metadata": {},
     "output_type": "display_data"
    }
   ],
   "source": [
    "days.value_counts().sort_index().plot(kind=\"bar\")"
   ]
  },
  {
   "cell_type": "code",
   "execution_count": null,
   "metadata": {
    "collapsed": true
   },
   "outputs": [],
   "source": []
  }
 ],
 "metadata": {
  "kernelspec": {
   "display_name": "Python 3",
   "language": "python",
   "name": "python3"
  },
  "language_info": {
   "codemirror_mode": {
    "name": "ipython",
    "version": 3
   },
   "file_extension": ".py",
   "mimetype": "text/x-python",
   "name": "python",
   "nbconvert_exporter": "python",
   "pygments_lexer": "ipython3",
   "version": "3.6.3"
  }
 },
 "nbformat": 4,
 "nbformat_minor": 2
}
