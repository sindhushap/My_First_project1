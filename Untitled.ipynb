{
 "cells": [
  {
   "cell_type": "code",
   "execution_count": 1,
   "metadata": {
    "collapsed": true
   },
   "outputs": [],
   "source": [
    "import numpy as np\n",
    "import pandas as pd\n",
    "import matplotlib.pyplot as plt\n",
    "from IPython.display import display "
   ]
  },
  {
   "cell_type": "code",
   "execution_count": 2,
   "metadata": {
    "collapsed": true
   },
   "outputs": [],
   "source": [
    "data=pd.read_excel(\"Data Science.xlsx\",sheetname=\"Sheet1\",na_values=\"0\")"
   ]
  },
  {
   "cell_type": "code",
   "execution_count": 103,
   "metadata": {
    "collapsed": true
   },
   "outputs": [],
   "source": [
    "#data"
   ]
  },
  {
   "cell_type": "code",
   "execution_count": 45,
   "metadata": {},
   "outputs": [
    {
     "data": {
      "text/html": [
       "<div>\n",
       "<style>\n",
       "    .dataframe thead tr:only-child th {\n",
       "        text-align: right;\n",
       "    }\n",
       "\n",
       "    .dataframe thead th {\n",
       "        text-align: left;\n",
       "    }\n",
       "\n",
       "    .dataframe tbody tr th {\n",
       "        vertical-align: top;\n",
       "    }\n",
       "</style>\n",
       "<table border=\"1\" class=\"dataframe\">\n",
       "  <thead>\n",
       "    <tr style=\"text-align: right;\">\n",
       "      <th></th>\n",
       "      <th>User id</th>\n",
       "      <th>Category</th>\n",
       "      <th>Product</th>\n",
       "      <th>Ordered Date</th>\n",
       "      <th>Price Spent</th>\n",
       "    </tr>\n",
       "  </thead>\n",
       "  <tbody>\n",
       "    <tr>\n",
       "      <th>0</th>\n",
       "      <td>2</td>\n",
       "      <td>Electronics</td>\n",
       "      <td>TV</td>\n",
       "      <td>2017-09-23</td>\n",
       "      <td>20000</td>\n",
       "    </tr>\n",
       "    <tr>\n",
       "      <th>1</th>\n",
       "      <td>1</td>\n",
       "      <td>Groceries</td>\n",
       "      <td>Rice</td>\n",
       "      <td>2017-09-24</td>\n",
       "      <td>1500</td>\n",
       "    </tr>\n",
       "    <tr>\n",
       "      <th>2</th>\n",
       "      <td>4</td>\n",
       "      <td>Transit</td>\n",
       "      <td>Cab Booking</td>\n",
       "      <td>2017-09-24</td>\n",
       "      <td>300</td>\n",
       "    </tr>\n",
       "    <tr>\n",
       "      <th>3</th>\n",
       "      <td>1</td>\n",
       "      <td>Electronics</td>\n",
       "      <td>Mobile</td>\n",
       "      <td>2017-09-25</td>\n",
       "      <td>15000</td>\n",
       "    </tr>\n",
       "    <tr>\n",
       "      <th>4</th>\n",
       "      <td>3</td>\n",
       "      <td>Groceries</td>\n",
       "      <td>Atta</td>\n",
       "      <td>2017-09-25</td>\n",
       "      <td>500</td>\n",
       "    </tr>\n",
       "  </tbody>\n",
       "</table>\n",
       "</div>"
      ],
      "text/plain": [
       "   User id     Category      Product Ordered Date  Price Spent\n",
       "0        2  Electronics           TV   2017-09-23        20000\n",
       "1        1    Groceries         Rice   2017-09-24         1500\n",
       "2        4      Transit  Cab Booking   2017-09-24          300\n",
       "3        1  Electronics       Mobile   2017-09-25        15000\n",
       "4        3    Groceries         Atta   2017-09-25          500"
      ]
     },
     "metadata": {},
     "output_type": "display_data"
    }
   ],
   "source": [
    "display(data.head())"
   ]
  },
  {
   "cell_type": "code",
   "execution_count": 5,
   "metadata": {},
   "outputs": [
    {
     "name": "stdout",
     "output_type": "stream",
     "text": [
      "<class 'pandas.core.frame.DataFrame'>\n",
      "RangeIndex: 42 entries, 0 to 41\n",
      "Data columns (total 5 columns):\n",
      "User id         42 non-null int64\n",
      "Category        42 non-null object\n",
      "Product         42 non-null object\n",
      "Ordered Date    42 non-null datetime64[ns]\n",
      "Price Spent     42 non-null int64\n",
      "dtypes: datetime64[ns](1), int64(2), object(2)\n",
      "memory usage: 1.7+ KB\n"
     ]
    }
   ],
   "source": [
    "data.info()"
   ]
  },
  {
   "cell_type": "code",
   "execution_count": 4,
   "metadata": {},
   "outputs": [
    {
     "data": {
      "text/html": [
       "<div>\n",
       "<style>\n",
       "    .dataframe thead tr:only-child th {\n",
       "        text-align: right;\n",
       "    }\n",
       "\n",
       "    .dataframe thead th {\n",
       "        text-align: left;\n",
       "    }\n",
       "\n",
       "    .dataframe tbody tr th {\n",
       "        vertical-align: top;\n",
       "    }\n",
       "</style>\n",
       "<table border=\"1\" class=\"dataframe\">\n",
       "  <thead>\n",
       "    <tr style=\"text-align: right;\">\n",
       "      <th></th>\n",
       "      <th>User id</th>\n",
       "      <th>Price Spent</th>\n",
       "    </tr>\n",
       "  </thead>\n",
       "  <tbody>\n",
       "    <tr>\n",
       "      <th>count</th>\n",
       "      <td>42.000000</td>\n",
       "      <td>42.000000</td>\n",
       "    </tr>\n",
       "    <tr>\n",
       "      <th>mean</th>\n",
       "      <td>2.547619</td>\n",
       "      <td>6745.238095</td>\n",
       "    </tr>\n",
       "    <tr>\n",
       "      <th>std</th>\n",
       "      <td>1.108776</td>\n",
       "      <td>11377.324525</td>\n",
       "    </tr>\n",
       "    <tr>\n",
       "      <th>min</th>\n",
       "      <td>1.000000</td>\n",
       "      <td>200.000000</td>\n",
       "    </tr>\n",
       "    <tr>\n",
       "      <th>25%</th>\n",
       "      <td>2.000000</td>\n",
       "      <td>500.000000</td>\n",
       "    </tr>\n",
       "    <tr>\n",
       "      <th>50%</th>\n",
       "      <td>2.500000</td>\n",
       "      <td>1650.000000</td>\n",
       "    </tr>\n",
       "    <tr>\n",
       "      <th>75%</th>\n",
       "      <td>3.750000</td>\n",
       "      <td>9000.000000</td>\n",
       "    </tr>\n",
       "    <tr>\n",
       "      <th>max</th>\n",
       "      <td>4.000000</td>\n",
       "      <td>50000.000000</td>\n",
       "    </tr>\n",
       "  </tbody>\n",
       "</table>\n",
       "</div>"
      ],
      "text/plain": [
       "         User id   Price Spent\n",
       "count  42.000000     42.000000\n",
       "mean    2.547619   6745.238095\n",
       "std     1.108776  11377.324525\n",
       "min     1.000000    200.000000\n",
       "25%     2.000000    500.000000\n",
       "50%     2.500000   1650.000000\n",
       "75%     3.750000   9000.000000\n",
       "max     4.000000  50000.000000"
      ]
     },
     "execution_count": 4,
     "metadata": {},
     "output_type": "execute_result"
    }
   ],
   "source": [
    "data.describe()"
   ]
  },
  {
   "cell_type": "code",
   "execution_count": 5,
   "metadata": {},
   "outputs": [
    {
     "data": {
      "text/plain": [
       "Electronics             10\n",
       "Transit                  9\n",
       "Apparels                 9\n",
       "Movies/Entertainment     7\n",
       "Groceries                7\n",
       "Name: Category, dtype: int64"
      ]
     },
     "execution_count": 5,
     "metadata": {},
     "output_type": "execute_result"
    }
   ],
   "source": [
    "data[\"Category\"].value_counts()"
   ]
  },
  {
   "cell_type": "code",
   "execution_count": 6,
   "metadata": {},
   "outputs": [
    {
     "data": {
      "text/plain": [
       "User id         0\n",
       "Category        0\n",
       "Product         0\n",
       "Ordered Date    0\n",
       "Price Spent     0\n",
       "dtype: int64"
      ]
     },
     "execution_count": 6,
     "metadata": {},
     "output_type": "execute_result"
    }
   ],
   "source": [
    "data.isnull().sum()"
   ]
  },
  {
   "cell_type": "code",
   "execution_count": 7,
   "metadata": {},
   "outputs": [
    {
     "data": {
      "text/plain": [
       "Clothing         9\n",
       "Cab Booking      9\n",
       "Movie Booking    7\n",
       "Mobile           5\n",
       "Rice             3\n",
       "Atta             2\n",
       "Refrigerator     2\n",
       "Dal              2\n",
       "Tv               1\n",
       "TV               1\n",
       "Oven             1\n",
       "Name: Product, dtype: int64"
      ]
     },
     "execution_count": 7,
     "metadata": {},
     "output_type": "execute_result"
    }
   ],
   "source": [
    "data[\"Product\"].value_counts()"
   ]
  },
  {
   "cell_type": "code",
   "execution_count": 8,
   "metadata": {},
   "outputs": [
    {
     "name": "stdout",
     "output_type": "stream",
     "text": [
      "42\n"
     ]
    },
    {
     "data": {
      "text/plain": [
       "'Atta'"
      ]
     },
     "execution_count": 8,
     "metadata": {},
     "output_type": "execute_result"
    }
   ],
   "source": [
    "print(len(data))\n",
    "data[\"Product\"].iloc([4])\n",
    "data[\"Product\"][4]"
   ]
  },
  {
   "cell_type": "code",
   "execution_count": 3,
   "metadata": {},
   "outputs": [
    {
     "name": "stderr",
     "output_type": "stream",
     "text": [
      "C:\\Users\\merus\\Anaconda3\\lib\\site-packages\\ipykernel_launcher.py:3: SettingWithCopyWarning: \n",
      "A value is trying to be set on a copy of a slice from a DataFrame\n",
      "\n",
      "See the caveats in the documentation: http://pandas.pydata.org/pandas-docs/stable/indexing.html#indexing-view-versus-copy\n",
      "  This is separate from the ipykernel package so we can avoid doing imports until\n"
     ]
    }
   ],
   "source": [
    "for i in range(len(data[\"Product\"])):\n",
    "    if data[\"Product\"][i]==\"Tv\": \n",
    "        data[\"Product\"][i]=\"TV\"\n",
    "       # data[j] =data[j].map(lambda j: j.upper())"
   ]
  },
  {
   "cell_type": "code",
   "execution_count": 4,
   "metadata": {},
   "outputs": [
    {
     "data": {
      "text/plain": [
       "0                TV\n",
       "1              Rice\n",
       "2       Cab Booking\n",
       "3            Mobile\n",
       "4              Atta\n",
       "5          Clothing\n",
       "6               Dal\n",
       "7      Refrigerator\n",
       "8       Cab Booking\n",
       "9     Movie Booking\n",
       "10           Mobile\n",
       "11    Movie Booking\n",
       "12             Rice\n",
       "13    Movie Booking\n",
       "14    Movie Booking\n",
       "15      Cab Booking\n",
       "16         Clothing\n",
       "17      Cab Booking\n",
       "18         Clothing\n",
       "19         Clothing\n",
       "20           Mobile\n",
       "21             Atta\n",
       "22    Movie Booking\n",
       "23         Clothing\n",
       "24             Rice\n",
       "25         Clothing\n",
       "26      Cab Booking\n",
       "27              Dal\n",
       "28    Movie Booking\n",
       "29      Cab Booking\n",
       "30           Mobile\n",
       "31    Movie Booking\n",
       "32               TV\n",
       "33         Clothing\n",
       "34     Refrigerator\n",
       "35      Cab Booking\n",
       "36           Mobile\n",
       "37         Clothing\n",
       "38      Cab Booking\n",
       "39      Cab Booking\n",
       "40             Oven\n",
       "41         Clothing\n",
       "Name: Product, dtype: object"
      ]
     },
     "execution_count": 4,
     "metadata": {},
     "output_type": "execute_result"
    }
   ],
   "source": [
    "data[\"Product\"]\n",
    "#data[\"Product\"][32]"
   ]
  },
  {
   "cell_type": "code",
   "execution_count": 5,
   "metadata": {},
   "outputs": [
    {
     "data": {
      "text/plain": [
       "Clothing         9\n",
       "Cab Booking      9\n",
       "Movie Booking    7\n",
       "Mobile           5\n",
       "Rice             3\n",
       "Refrigerator     2\n",
       "Dal              2\n",
       "Atta             2\n",
       "TV               2\n",
       "Oven             1\n",
       "Name: Product, dtype: int64"
      ]
     },
     "execution_count": 5,
     "metadata": {},
     "output_type": "execute_result"
    }
   ],
   "source": [
    "data[\"Product\"].value_counts()"
   ]
  },
  {
   "cell_type": "code",
   "execution_count": 6,
   "metadata": {},
   "outputs": [
    {
     "name": "stdout",
     "output_type": "stream",
     "text": [
      "Category              Product      \n",
      "Apparels              Clothing         20000\n",
      "Electronics           Mobile           20000\n",
      "                      Oven              6000\n",
      "                      Refrigerator     50000\n",
      "                      TV               40000\n",
      "Groceries             Atta               500\n",
      "                      Dal               2000\n",
      "                      Rice              1800\n",
      "Movies/Entertainment  Movie Booking     1200\n",
      "Transit               Cab Booking       1000\n",
      "Name: Price Spent, dtype: int64\n"
     ]
    }
   ],
   "source": [
    "#estimatiing the max price spent by users for each product in categories\n",
    "print(data.groupby([\"Category\",\"Product\"])[\"Price Spent\"].max())"
   ]
  },
  {
   "cell_type": "code",
   "execution_count": 7,
   "metadata": {},
   "outputs": [
    {
     "name": "stdout",
     "output_type": "stream",
     "text": [
      "Category              Product      \n",
      "Apparels              Clothing         9\n",
      "Electronics           Mobile           5\n",
      "                      Oven             1\n",
      "                      Refrigerator     2\n",
      "                      TV               2\n",
      "Groceries             Atta             2\n",
      "                      Dal              2\n",
      "                      Rice             3\n",
      "Movies/Entertainment  Movie Booking    7\n",
      "Transit               Cab Booking      9\n",
      "Name: User id, dtype: int64\n"
     ]
    }
   ],
   "source": [
    "print(data.groupby([\"Category\",\"Product\"])[\"User id\"].count())"
   ]
  },
  {
   "cell_type": "code",
   "execution_count": 8,
   "metadata": {
    "collapsed": true,
    "scrolled": true
   },
   "outputs": [],
   "source": [
    "#seggrigating by categories\n",
    "categories_data=data.groupby(\"Category\")"
   ]
  },
  {
   "cell_type": "code",
   "execution_count": 9,
   "metadata": {
    "collapsed": true
   },
   "outputs": [],
   "source": [
    "t=(group.sort_index(by=\"User id\", ascending=True) for Product,group in categories_data)"
   ]
  },
  {
   "cell_type": "code",
   "execution_count": 10,
   "metadata": {},
   "outputs": [
    {
     "name": "stdout",
     "output_type": "stream",
     "text": [
      "    User id  Category  Category_id   Product  Product_id Ordered Date  \\\n",
      "16        1  Apparels           11  Clothing           8   2017-10-07   \n",
      "5         2  Apparels           11  Clothing           8   2017-09-26   \n",
      "33        2  Apparels           11  Clothing           8   2017-10-19   \n",
      "37        2  Apparels           11  Clothing           8   2017-10-20   \n",
      "18        3  Apparels           11  Clothing           8   2017-10-10   \n",
      "23        3  Apparels           11  Clothing           8   2017-10-13   \n",
      "19        4  Apparels           11  Clothing           8   2017-10-10   \n",
      "25        4  Apparels           11  Clothing           8   2017-10-14   \n",
      "41        4  Apparels           11  Clothing           8   2017-10-22   \n",
      "\n",
      "    Price Spent  \n",
      "16         2000  \n",
      "5          2500  \n",
      "33        20000  \n",
      "37         2000  \n",
      "18         2000  \n",
      "23        10000  \n",
      "19         3000  \n",
      "25         3000  \n",
      "41         2000  \n",
      "    User id     Category  Category_id       Product  Product_id Ordered Date  \\\n",
      "3         1  Electronics            7        Mobile           2   2017-09-25   \n",
      "30        1  Electronics            7        Mobile           2   2017-10-16   \n",
      "36        1  Electronics            7        Mobile           2   2017-10-20   \n",
      "0         2  Electronics            7            TV           1   2017-09-23   \n",
      "20        2  Electronics            7        Mobile           2   2017-10-11   \n",
      "40        2  Electronics            7          Oven           7   2017-10-22   \n",
      "7         3  Electronics            7  Refrigerator           3   2017-09-28   \n",
      "10        4  Electronics            7        Mobile           2   2017-10-02   \n",
      "32        4  Electronics            7            TV           1   2017-10-16   \n",
      "34        4  Electronics            7  Refrigerator           3   2017-10-19   \n",
      "\n",
      "    Price Spent  \n",
      "3         15000  \n",
      "30        10000  \n",
      "36        20000  \n",
      "0         20000  \n",
      "20        10000  \n",
      "40         6000  \n",
      "7         30000  \n",
      "10        20000  \n",
      "32        40000  \n",
      "34        50000  \n",
      "    User id   Category  Category_id Product  Product_id Ordered Date  \\\n",
      "1         1  Groceries            1    Rice           4   2017-09-24   \n",
      "21        1  Groceries            1    Atta           5   2017-10-11   \n",
      "12        2  Groceries            1    Rice           4   2017-10-03   \n",
      "27        2  Groceries            1     Dal           6   2017-10-14   \n",
      "4         3  Groceries            1    Atta           5   2017-09-25   \n",
      "24        3  Groceries            1    Rice           4   2017-10-13   \n",
      "6         4  Groceries            1     Dal           6   2017-09-28   \n",
      "\n",
      "    Price Spent  \n",
      "1          1500  \n",
      "21          200  \n",
      "12         1800  \n",
      "27          400  \n",
      "4           500  \n",
      "24         1200  \n",
      "6          2000  \n",
      "    User id              Category  Category_id        Product  Product_id  \\\n",
      "13        1  Movies/Entertainment            5  Movie Booking          10   \n",
      "9         2  Movies/Entertainment            5  Movie Booking          10   \n",
      "28        2  Movies/Entertainment            5  Movie Booking          10   \n",
      "11        3  Movies/Entertainment            5  Movie Booking          10   \n",
      "31        3  Movies/Entertainment            5  Movie Booking          10   \n",
      "14        4  Movies/Entertainment            5  Movie Booking          10   \n",
      "22        4  Movies/Entertainment            5  Movie Booking          10   \n",
      "\n",
      "   Ordered Date  Price Spent  \n",
      "13   2017-10-04          900  \n",
      "9    2017-09-30         1200  \n",
      "28   2017-10-14          600  \n",
      "11   2017-10-02          600  \n",
      "31   2017-10-16          300  \n",
      "14   2017-10-04          500  \n",
      "22   2017-10-12          500  \n",
      "    User id Category  Category_id      Product  Product_id Ordered Date  \\\n",
      "8         1  Transit           13  Cab Booking           9   2017-09-29   \n",
      "29        1  Transit           13  Cab Booking           9   2017-10-16   \n",
      "17        2  Transit           13  Cab Booking           9   2017-10-08   \n",
      "26        2  Transit           13  Cab Booking           9   2017-10-14   \n",
      "15        3  Transit           13  Cab Booking           9   2017-10-05   \n",
      "35        3  Transit           13  Cab Booking           9   2017-10-19   \n",
      "38        3  Transit           13  Cab Booking           9   2017-10-20   \n",
      "2         4  Transit           13  Cab Booking           9   2017-09-24   \n",
      "39        4  Transit           13  Cab Booking           9   2017-10-20   \n",
      "\n",
      "    Price Spent  \n",
      "8          1000  \n",
      "29          200  \n",
      "17          400  \n",
      "26          300  \n",
      "15          300  \n",
      "35          500  \n",
      "38          200  \n",
      "2           300  \n",
      "39          400  \n"
     ]
    },
    {
     "name": "stderr",
     "output_type": "stream",
     "text": [
      "C:\\Users\\merus\\Anaconda3\\lib\\site-packages\\ipykernel_launcher.py:1: FutureWarning: by argument to sort_index is deprecated, pls use .sort_values(by=...)\n",
      "  \"\"\"Entry point for launching an IPython kernel.\n"
     ]
    }
   ],
   "source": [
    "for i in t:\n",
    "    print(i)"
   ]
  },
  {
   "cell_type": "code",
   "execution_count": 11,
   "metadata": {
    "collapsed": true
   },
   "outputs": [],
   "source": [
    "#seggrigating by users\n",
    "Users_data=data.groupby(\"User id\")"
   ]
  },
  {
   "cell_type": "code",
   "execution_count": 12,
   "metadata": {
    "collapsed": true
   },
   "outputs": [],
   "source": [
    "p=(group.sort_index(by=\"Category\", ascending=True) for Product,group in Users_data)"
   ]
  },
  {
   "cell_type": "code",
   "execution_count": 13,
   "metadata": {},
   "outputs": [
    {
     "name": "stdout",
     "output_type": "stream",
     "text": [
      "    User id              Category  Category_id        Product  Product_id  \\\n",
      "16        1              Apparels           11       Clothing           8   \n",
      "3         1           Electronics            7         Mobile           2   \n",
      "30        1           Electronics            7         Mobile           2   \n",
      "36        1           Electronics            7         Mobile           2   \n",
      "1         1             Groceries            1           Rice           4   \n",
      "21        1             Groceries            1           Atta           5   \n",
      "13        1  Movies/Entertainment            5  Movie Booking          10   \n",
      "8         1               Transit           13    Cab Booking           9   \n",
      "29        1               Transit           13    Cab Booking           9   \n",
      "\n",
      "   Ordered Date  Price Spent  \n",
      "16   2017-10-07         2000  \n",
      "3    2017-09-25        15000  \n",
      "30   2017-10-16        10000  \n",
      "36   2017-10-20        20000  \n",
      "1    2017-09-24         1500  \n",
      "21   2017-10-11          200  \n",
      "13   2017-10-04          900  \n",
      "8    2017-09-29         1000  \n",
      "29   2017-10-16          200  \n",
      "    User id              Category  Category_id        Product  Product_id  \\\n",
      "5         2              Apparels           11       Clothing           8   \n",
      "33        2              Apparels           11       Clothing           8   \n",
      "37        2              Apparels           11       Clothing           8   \n",
      "0         2           Electronics            7             TV           1   \n",
      "20        2           Electronics            7         Mobile           2   \n",
      "40        2           Electronics            7           Oven           7   \n",
      "12        2             Groceries            1           Rice           4   \n",
      "27        2             Groceries            1            Dal           6   \n",
      "9         2  Movies/Entertainment            5  Movie Booking          10   \n",
      "28        2  Movies/Entertainment            5  Movie Booking          10   \n",
      "17        2               Transit           13    Cab Booking           9   \n",
      "26        2               Transit           13    Cab Booking           9   \n",
      "\n",
      "   Ordered Date  Price Spent  \n",
      "5    2017-09-26         2500  \n",
      "33   2017-10-19        20000  \n",
      "37   2017-10-20         2000  \n",
      "0    2017-09-23        20000  \n",
      "20   2017-10-11        10000  \n",
      "40   2017-10-22         6000  \n",
      "12   2017-10-03         1800  \n",
      "27   2017-10-14          400  \n",
      "9    2017-09-30         1200  \n",
      "28   2017-10-14          600  \n",
      "17   2017-10-08          400  \n",
      "26   2017-10-14          300  \n",
      "    User id              Category  Category_id        Product  Product_id  \\\n",
      "18        3              Apparels           11       Clothing           8   \n",
      "23        3              Apparels           11       Clothing           8   \n",
      "7         3           Electronics            7   Refrigerator           3   \n",
      "4         3             Groceries            1           Atta           5   \n",
      "24        3             Groceries            1           Rice           4   \n",
      "11        3  Movies/Entertainment            5  Movie Booking          10   \n",
      "31        3  Movies/Entertainment            5  Movie Booking          10   \n",
      "15        3               Transit           13    Cab Booking           9   \n",
      "35        3               Transit           13    Cab Booking           9   \n",
      "38        3               Transit           13    Cab Booking           9   \n",
      "\n",
      "   Ordered Date  Price Spent  \n",
      "18   2017-10-10         2000  \n",
      "23   2017-10-13        10000  \n",
      "7    2017-09-28        30000  \n",
      "4    2017-09-25          500  \n",
      "24   2017-10-13         1200  \n",
      "11   2017-10-02          600  \n",
      "31   2017-10-16          300  \n",
      "15   2017-10-05          300  \n",
      "35   2017-10-19          500  \n",
      "38   2017-10-20          200  \n",
      "    User id              Category  Category_id        Product  Product_id  \\\n",
      "19        4              Apparels           11       Clothing           8   \n",
      "25        4              Apparels           11       Clothing           8   \n",
      "41        4              Apparels           11       Clothing           8   \n",
      "10        4           Electronics            7         Mobile           2   \n",
      "32        4           Electronics            7             TV           1   \n",
      "34        4           Electronics            7   Refrigerator           3   \n",
      "6         4             Groceries            1            Dal           6   \n",
      "14        4  Movies/Entertainment            5  Movie Booking          10   \n",
      "22        4  Movies/Entertainment            5  Movie Booking          10   \n",
      "2         4               Transit           13    Cab Booking           9   \n",
      "39        4               Transit           13    Cab Booking           9   \n",
      "\n",
      "   Ordered Date  Price Spent  \n",
      "19   2017-10-10         3000  \n",
      "25   2017-10-14         3000  \n",
      "41   2017-10-22         2000  \n",
      "10   2017-10-02        20000  \n",
      "32   2017-10-16        40000  \n",
      "34   2017-10-19        50000  \n",
      "6    2017-09-28         2000  \n",
      "14   2017-10-04          500  \n",
      "22   2017-10-12          500  \n",
      "2    2017-09-24          300  \n",
      "39   2017-10-20          400  \n"
     ]
    },
    {
     "name": "stderr",
     "output_type": "stream",
     "text": [
      "C:\\Users\\merus\\Anaconda3\\lib\\site-packages\\ipykernel_launcher.py:1: FutureWarning: by argument to sort_index is deprecated, pls use .sort_values(by=...)\n",
      "  \"\"\"Entry point for launching an IPython kernel.\n"
     ]
    }
   ],
   "source": [
    "for i in p:\n",
    "    print(i)"
   ]
  },
  {
   "cell_type": "code",
   "execution_count": 25,
   "metadata": {},
   "outputs": [
    {
     "ename": "AttributeError",
     "evalue": "'generator' object has no attribute 'apply'",
     "output_type": "error",
     "traceback": [
      "\u001b[1;31m---------------------------------------------------------------------------\u001b[0m",
      "\u001b[1;31mAttributeError\u001b[0m                            Traceback (most recent call last)",
      "\u001b[1;32m<ipython-input-25-48a9997389de>\u001b[0m in \u001b[0;36m<module>\u001b[1;34m()\u001b[0m\n\u001b[1;32m----> 1\u001b[1;33m \u001b[0mp\u001b[0m\u001b[1;33m=\u001b[0m\u001b[1;33m(\u001b[0m\u001b[0mgroup\u001b[0m\u001b[1;33m.\u001b[0m\u001b[0msort_index\u001b[0m\u001b[1;33m(\u001b[0m\u001b[0mby\u001b[0m\u001b[1;33m=\u001b[0m\u001b[1;34m\"Category\"\u001b[0m\u001b[1;33m,\u001b[0m \u001b[0mascending\u001b[0m\u001b[1;33m=\u001b[0m\u001b[1;32mTrue\u001b[0m\u001b[1;33m)\u001b[0m \u001b[1;32mfor\u001b[0m \u001b[0mProduct\u001b[0m\u001b[1;33m,\u001b[0m\u001b[0mgroup\u001b[0m \u001b[1;32min\u001b[0m \u001b[0mUsers_data\u001b[0m\u001b[1;33m)\u001b[0m\u001b[1;33m.\u001b[0m\u001b[0mapply\u001b[0m\u001b[1;33m(\u001b[0m\u001b[0mmean\u001b[0m\u001b[1;33m,\u001b[0m \u001b[0maxis\u001b[0m\u001b[1;33m=\u001b[0m\u001b[1;36m0\u001b[0m\u001b[1;33m)\u001b[0m\u001b[1;33m\u001b[0m\u001b[0m\n\u001b[0m",
      "\u001b[1;31mAttributeError\u001b[0m: 'generator' object has no attribute 'apply'"
     ]
    }
   ],
   "source": [
    "p=(group.sort_index(by=\"Category\", ascending=True) for Product,group in Users_data).apply(mean, axis=0)"
   ]
  },
  {
   "cell_type": "code",
   "execution_count": 26,
   "metadata": {},
   "outputs": [
    {
     "ename": "AttributeError",
     "evalue": "'generator' object has no attribute 'all'",
     "output_type": "error",
     "traceback": [
      "\u001b[1;31m---------------------------------------------------------------------------\u001b[0m",
      "\u001b[1;31mAttributeError\u001b[0m                            Traceback (most recent call last)",
      "\u001b[1;32m<ipython-input-26-53f1b15debe5>\u001b[0m in \u001b[0;36m<module>\u001b[1;34m()\u001b[0m\n\u001b[1;32m----> 1\u001b[1;33m \u001b[1;32mfor\u001b[0m \u001b[0mi\u001b[0m \u001b[1;32min\u001b[0m \u001b[0mp\u001b[0m\u001b[1;33m.\u001b[0m\u001b[0mall\u001b[0m\u001b[1;33m(\u001b[0m\u001b[1;33m)\u001b[0m\u001b[1;33m:\u001b[0m\u001b[1;33m\u001b[0m\u001b[0m\n\u001b[0m\u001b[0;32m      2\u001b[0m     \u001b[0mprint\u001b[0m\u001b[1;33m(\u001b[0m\u001b[0mi\u001b[0m\u001b[1;33m.\u001b[0m\u001b[0mapply\u001b[0m\u001b[1;33m(\u001b[0m\u001b[0mmean\u001b[0m\u001b[1;33m(\u001b[0m\u001b[1;33m)\u001b[0m\u001b[1;33m)\u001b[0m\u001b[1;33m)\u001b[0m\u001b[1;33m\u001b[0m\u001b[0m\n",
      "\u001b[1;31mAttributeError\u001b[0m: 'generator' object has no attribute 'all'"
     ]
    }
   ],
   "source": [
    "for i in p.all():\n",
    "    print(i.apply(mean()))"
   ]
  },
  {
   "cell_type": "code",
   "execution_count": 14,
   "metadata": {},
   "outputs": [
    {
     "name": "stdout",
     "output_type": "stream",
     "text": [
      "User id  Category              Product      \n",
      "1        Apparels              Clothing          2000.000000\n",
      "         Electronics           Mobile           15000.000000\n",
      "         Groceries             Atta               200.000000\n",
      "                               Rice              1500.000000\n",
      "         Movies/Entertainment  Movie Booking      900.000000\n",
      "         Transit               Cab Booking        600.000000\n",
      "2        Apparels              Clothing          8166.666667\n",
      "         Electronics           Mobile           10000.000000\n",
      "                               Oven              6000.000000\n",
      "                               TV               20000.000000\n",
      "         Groceries             Dal                400.000000\n",
      "                               Rice              1800.000000\n",
      "         Movies/Entertainment  Movie Booking      900.000000\n",
      "         Transit               Cab Booking        350.000000\n",
      "3        Apparels              Clothing          6000.000000\n",
      "         Electronics           Refrigerator     30000.000000\n",
      "         Groceries             Atta               500.000000\n",
      "                               Rice              1200.000000\n",
      "         Movies/Entertainment  Movie Booking      450.000000\n",
      "         Transit               Cab Booking        333.333333\n",
      "4        Apparels              Clothing          2666.666667\n",
      "         Electronics           Mobile           20000.000000\n",
      "                               Refrigerator     50000.000000\n",
      "                               TV               40000.000000\n",
      "         Groceries             Dal               2000.000000\n",
      "         Movies/Entertainment  Movie Booking      500.000000\n",
      "         Transit               Cab Booking        350.000000\n",
      "Name: Price Spent, dtype: float64\n"
     ]
    }
   ],
   "source": [
    "print(data.groupby([\"User id\",\"Category\",\"Product\",])[\"Price Spent\"].mean())"
   ]
  },
  {
   "cell_type": "code",
   "execution_count": 15,
   "metadata": {},
   "outputs": [
    {
     "data": {
      "text/plain": [
       "Electronics             10\n",
       "Apparels                 9\n",
       "Transit                  9\n",
       "Groceries                7\n",
       "Movies/Entertainment     7\n",
       "Name: Category, dtype: int64"
      ]
     },
     "execution_count": 15,
     "metadata": {},
     "output_type": "execute_result"
    }
   ],
   "source": [
    "data[\"Category\"].value_counts()"
   ]
  },
  {
   "cell_type": "code",
   "execution_count": 26,
   "metadata": {
    "collapsed": true
   },
   "outputs": [],
   "source": [
    "#data[\"Category\"]=data[\"Category\"].astype(\"category\")"
   ]
  },
  {
   "cell_type": "code",
   "execution_count": 27,
   "metadata": {
    "collapsed": true
   },
   "outputs": [],
   "source": [
    "#data[\"Category\"].cat.categories"
   ]
  },
  {
   "cell_type": "code",
   "execution_count": 28,
   "metadata": {},
   "outputs": [
    {
     "ename": "SyntaxError",
     "evalue": "invalid syntax (<ipython-input-28-10de034aa29c>, line 1)",
     "output_type": "error",
     "traceback": [
      "\u001b[1;36m  File \u001b[1;32m\"<ipython-input-28-10de034aa29c>\"\u001b[1;36m, line \u001b[1;32m1\u001b[0m\n\u001b[1;33m    \"\"\"\"\"\"for i in range(len(data[\"Category\"])):\u001b[0m\n\u001b[1;37m            ^\u001b[0m\n\u001b[1;31mSyntaxError\u001b[0m\u001b[1;31m:\u001b[0m invalid syntax\n"
     ]
    }
   ],
   "source": [
    "\"\"\"\"\"\"for i in range(len(data[\"Category\"])):\n",
    "    if data[\"Category\"]==\"Apparels\": \n",
    "        data[\"Category\"][i]=1\n",
    "    elif data[\"Category\"][i]==\"Electronics\": \n",
    "        data[\"Category\"][i]=2\n",
    "    elif data[\"Category\"][i]==\"Groceries\": \n",
    "        data[\"Category\"][i]=3\n",
    "    elif data[\"Category\"][i]==\"Transit\": \n",
    "        data[\"Category\"][i]=4\n",
    "    elif data[\"Category\"][i]==\"Movies/Entertainment\": \n",
    "        data[\"Category\"][i]=5\"\"\"\"\"\""
   ]
  },
  {
   "cell_type": "code",
   "execution_count": 86,
   "metadata": {
    "scrolled": true
   },
   "outputs": [
    {
     "data": {
      "text/plain": [
       "Electronics             10\n",
       "Transit                  9\n",
       "Apparels                 9\n",
       "Movies/Entertainment     7\n",
       "Groceries                7\n",
       "Name: Category, dtype: int64"
      ]
     },
     "execution_count": 86,
     "metadata": {},
     "output_type": "execute_result"
    }
   ],
   "source": [
    "cat_count=data[\"Category\"].value_counts()\n",
    "cat_count"
   ]
  },
  {
   "cell_type": "code",
   "execution_count": 16,
   "metadata": {},
   "outputs": [
    {
     "data": {
      "text/plain": [
       "['Apparels', 'Electronics', 'Groceries', 'Movies/Entertainment', 'Transit']"
      ]
     },
     "execution_count": 16,
     "metadata": {},
     "output_type": "execute_result"
    }
   ],
   "source": [
    "a=list(np.unique(data[\"Category\"]))\n",
    "a[0]\n",
    "a"
   ]
  },
  {
   "cell_type": "code",
   "execution_count": 17,
   "metadata": {},
   "outputs": [
    {
     "data": {
      "text/plain": [
       "2"
      ]
     },
     "execution_count": 17,
     "metadata": {},
     "output_type": "execute_result"
    }
   ],
   "source": [
    "a.index(\"Electronics\")\n",
    "a.index(data[\"Category\"][1])"
   ]
  },
  {
   "cell_type": "code",
   "execution_count": 18,
   "metadata": {},
   "outputs": [
    {
     "name": "stderr",
     "output_type": "stream",
     "text": [
      "C:\\Users\\merus\\Anaconda3\\lib\\site-packages\\ipykernel_launcher.py:3: SettingWithCopyWarning: \n",
      "A value is trying to be set on a copy of a slice from a DataFrame\n",
      "\n",
      "See the caveats in the documentation: http://pandas.pydata.org/pandas-docs/stable/indexing.html#indexing-view-versus-copy\n",
      "  This is separate from the ipykernel package so we can avoid doing imports until\n"
     ]
    }
   ],
   "source": [
    "for i in range(len(data[\"Category\"])):\n",
    "    if data[\"Category\"][i] in a:\n",
    "        data[\"Category\"][i]=a.index(data[\"Category\"][i])"
   ]
  },
  {
   "cell_type": "code",
   "execution_count": 19,
   "metadata": {},
   "outputs": [
    {
     "data": {
      "text/plain": [
       "0     1\n",
       "1     2\n",
       "2     4\n",
       "3     1\n",
       "4     2\n",
       "5     0\n",
       "6     2\n",
       "7     1\n",
       "8     4\n",
       "9     3\n",
       "10    1\n",
       "11    3\n",
       "12    2\n",
       "13    3\n",
       "14    3\n",
       "15    4\n",
       "16    0\n",
       "17    4\n",
       "18    0\n",
       "19    0\n",
       "20    1\n",
       "21    2\n",
       "22    3\n",
       "23    0\n",
       "24    2\n",
       "25    0\n",
       "26    4\n",
       "27    2\n",
       "28    3\n",
       "29    4\n",
       "30    1\n",
       "31    3\n",
       "32    1\n",
       "33    0\n",
       "34    1\n",
       "35    4\n",
       "36    1\n",
       "37    0\n",
       "38    4\n",
       "39    4\n",
       "40    1\n",
       "41    0\n",
       "Name: Category, dtype: object"
      ]
     },
     "execution_count": 19,
     "metadata": {},
     "output_type": "execute_result"
    }
   ],
   "source": [
    "data[\"Category\"]"
   ]
  },
  {
   "cell_type": "code",
   "execution_count": null,
   "metadata": {
    "collapsed": true
   },
   "outputs": [],
   "source": [
    "da=data[\"Category\"]"
   ]
  },
  {
   "cell_type": "code",
   "execution_count": 76,
   "metadata": {},
   "outputs": [
    {
     "name": "stderr",
     "output_type": "stream",
     "text": [
      "C:\\Users\\merus\\Anaconda3\\lib\\site-packages\\ipykernel_launcher.py:6: SettingWithCopyWarning: \n",
      "A value is trying to be set on a copy of a slice from a DataFrame\n",
      "\n",
      "See the caveats in the documentation: http://pandas.pydata.org/pandas-docs/stable/indexing.html#indexing-view-versus-copy\n",
      "  \n"
     ]
    }
   ],
   "source": [
    "category=[]\n",
    "for i in range(len(data[\"Category\"])):\n",
    "    if data[\"Category\"][i] not in category:\n",
    "        category.append(data[\"Category\"][i])\n",
    "    elif data[\"Category\"][i] in category:\n",
    "        data[\"Category\"][i]=category.index(data[\"Category\"][i])\n",
    "        "
   ]
  },
  {
   "cell_type": "code",
   "execution_count": 99,
   "metadata": {
    "collapsed": true
   },
   "outputs": [],
   "source": [
    "data=pd.read_excel(\"Data Science.xlsx\",sheetname=\"Sheet1\",na_values=\"0\")"
   ]
  },
  {
   "cell_type": "code",
   "execution_count": 100,
   "metadata": {},
   "outputs": [
    {
     "name": "stderr",
     "output_type": "stream",
     "text": [
      "C:\\Users\\merus\\Anaconda3\\lib\\site-packages\\pandas\\core\\indexing.py:179: SettingWithCopyWarning: \n",
      "A value is trying to be set on a copy of a slice from a DataFrame\n",
      "\n",
      "See the caveats in the documentation: http://pandas.pydata.org/pandas-docs/stable/indexing.html#indexing-view-versus-copy\n",
      "  self._setitem_with_indexer(indexer, value)\n"
     ]
    }
   ],
   "source": [
    "category=[]\n",
    "for i in range(len(data[\"Category\"])):\n",
    "    if data[\"Category\"][i] not in category:\n",
    "        category.append(data[\"Category\"][i])\n",
    "    elif data[\"Category\"][i] in category:\n",
    "        data.loc[\"Category\"][i]=category.index(data[\"Category\"][i])\n",
    "        "
   ]
  },
  {
   "cell_type": "code",
   "execution_count": 101,
   "metadata": {},
   "outputs": [
    {
     "data": {
      "text/html": [
       "<div>\n",
       "<style>\n",
       "    .dataframe thead tr:only-child th {\n",
       "        text-align: right;\n",
       "    }\n",
       "\n",
       "    .dataframe thead th {\n",
       "        text-align: left;\n",
       "    }\n",
       "\n",
       "    .dataframe tbody tr th {\n",
       "        vertical-align: top;\n",
       "    }\n",
       "</style>\n",
       "<table border=\"1\" class=\"dataframe\">\n",
       "  <thead>\n",
       "    <tr style=\"text-align: right;\">\n",
       "      <th></th>\n",
       "      <th>User id</th>\n",
       "      <th>Category</th>\n",
       "      <th>Product</th>\n",
       "      <th>Ordered Date</th>\n",
       "      <th>Price Spent</th>\n",
       "    </tr>\n",
       "  </thead>\n",
       "  <tbody>\n",
       "    <tr>\n",
       "      <th>0</th>\n",
       "      <td>2</td>\n",
       "      <td>Electronics</td>\n",
       "      <td>TV</td>\n",
       "      <td>2017-09-23</td>\n",
       "      <td>20000</td>\n",
       "    </tr>\n",
       "    <tr>\n",
       "      <th>1</th>\n",
       "      <td>1</td>\n",
       "      <td>Groceries</td>\n",
       "      <td>Rice</td>\n",
       "      <td>2017-09-24</td>\n",
       "      <td>1500</td>\n",
       "    </tr>\n",
       "    <tr>\n",
       "      <th>2</th>\n",
       "      <td>4</td>\n",
       "      <td>Transit</td>\n",
       "      <td>Cab Booking</td>\n",
       "      <td>2017-09-24</td>\n",
       "      <td>300</td>\n",
       "    </tr>\n",
       "    <tr>\n",
       "      <th>3</th>\n",
       "      <td>1</td>\n",
       "      <td>0</td>\n",
       "      <td>Mobile</td>\n",
       "      <td>2017-09-25</td>\n",
       "      <td>15000</td>\n",
       "    </tr>\n",
       "    <tr>\n",
       "      <th>4</th>\n",
       "      <td>3</td>\n",
       "      <td>1</td>\n",
       "      <td>Atta</td>\n",
       "      <td>2017-09-25</td>\n",
       "      <td>500</td>\n",
       "    </tr>\n",
       "  </tbody>\n",
       "</table>\n",
       "</div>"
      ],
      "text/plain": [
       "   User id     Category      Product Ordered Date  Price Spent\n",
       "0        2  Electronics           TV   2017-09-23        20000\n",
       "1        1    Groceries         Rice   2017-09-24         1500\n",
       "2        4      Transit  Cab Booking   2017-09-24          300\n",
       "3        1            0       Mobile   2017-09-25        15000\n",
       "4        3            1         Atta   2017-09-25          500"
      ]
     },
     "execution_count": 101,
     "metadata": {},
     "output_type": "execute_result"
    }
   ],
   "source": [
    "data.head()"
   ]
  },
  {
   "cell_type": "code",
   "execution_count": 36,
   "metadata": {},
   "outputs": [
    {
     "data": {
      "text/html": [
       "<div>\n",
       "<style>\n",
       "    .dataframe thead tr:only-child th {\n",
       "        text-align: right;\n",
       "    }\n",
       "\n",
       "    .dataframe thead th {\n",
       "        text-align: left;\n",
       "    }\n",
       "\n",
       "    .dataframe tbody tr th {\n",
       "        vertical-align: top;\n",
       "    }\n",
       "</style>\n",
       "<table border=\"1\" class=\"dataframe\">\n",
       "  <thead>\n",
       "    <tr style=\"text-align: right;\">\n",
       "      <th></th>\n",
       "      <th>User id</th>\n",
       "      <th>Category</th>\n",
       "      <th>Product</th>\n",
       "      <th>Ordered Date</th>\n",
       "      <th>Price Spent</th>\n",
       "    </tr>\n",
       "  </thead>\n",
       "  <tbody>\n",
       "    <tr>\n",
       "      <th>0</th>\n",
       "      <td>2</td>\n",
       "      <td>Electronics</td>\n",
       "      <td>TV</td>\n",
       "      <td>2017-09-23</td>\n",
       "      <td>20000</td>\n",
       "    </tr>\n",
       "    <tr>\n",
       "      <th>1</th>\n",
       "      <td>1</td>\n",
       "      <td>Groceries</td>\n",
       "      <td>Rice</td>\n",
       "      <td>2017-09-24</td>\n",
       "      <td>1500</td>\n",
       "    </tr>\n",
       "    <tr>\n",
       "      <th>2</th>\n",
       "      <td>4</td>\n",
       "      <td>Transit</td>\n",
       "      <td>Cab Booking</td>\n",
       "      <td>2017-09-24</td>\n",
       "      <td>300</td>\n",
       "    </tr>\n",
       "    <tr>\n",
       "      <th>3</th>\n",
       "      <td>1</td>\n",
       "      <td>&lt;built-in method index of list object at 0x000...</td>\n",
       "      <td>Mobile</td>\n",
       "      <td>2017-09-25</td>\n",
       "      <td>15000</td>\n",
       "    </tr>\n",
       "    <tr>\n",
       "      <th>4</th>\n",
       "      <td>3</td>\n",
       "      <td>&lt;built-in method index of list object at 0x000...</td>\n",
       "      <td>Atta</td>\n",
       "      <td>2017-09-25</td>\n",
       "      <td>500</td>\n",
       "    </tr>\n",
       "  </tbody>\n",
       "</table>\n",
       "</div>"
      ],
      "text/plain": [
       "   User id                                           Category      Product  \\\n",
       "0        2                                        Electronics           TV   \n",
       "1        1                                          Groceries         Rice   \n",
       "2        4                                            Transit  Cab Booking   \n",
       "3        1  <built-in method index of list object at 0x000...       Mobile   \n",
       "4        3  <built-in method index of list object at 0x000...         Atta   \n",
       "\n",
       "  Ordered Date  Price Spent  \n",
       "0   2017-09-23        20000  \n",
       "1   2017-09-24         1500  \n",
       "2   2017-09-24          300  \n",
       "3   2017-09-25        15000  \n",
       "4   2017-09-25          500  "
      ]
     },
     "execution_count": 36,
     "metadata": {},
     "output_type": "execute_result"
    }
   ],
   "source": [
    "data.head()"
   ]
  },
  {
   "cell_type": "code",
   "execution_count": null,
   "metadata": {
    "collapsed": true
   },
   "outputs": [],
   "source": []
  },
  {
   "cell_type": "code",
   "execution_count": 61,
   "metadata": {},
   "outputs": [
    {
     "name": "stdout",
     "output_type": "stream",
     "text": [
      "['Electronics', 'Groceries', 'Transit', 'Apparels', 'Movies/Entertainment']\n"
     ]
    },
    {
     "data": {
      "text/plain": [
       "Index(['Electronics', 'Transit', 'Apparels', 'Groceries',\n",
       "       'Movies/Entertainment'],\n",
       "      dtype='object')"
      ]
     },
     "execution_count": 61,
     "metadata": {},
     "output_type": "execute_result"
    }
   ],
   "source": [
    "print(category)\n",
    "cat_count.index"
   ]
  },
  {
   "cell_type": "code",
   "execution_count": 63,
   "metadata": {},
   "outputs": [
    {
     "ename": "ValueError",
     "evalue": "The truth value of an array with more than one element is ambiguous. Use a.any() or a.all()",
     "output_type": "error",
     "traceback": [
      "\u001b[1;31m---------------------------------------------------------------------------\u001b[0m",
      "\u001b[1;31mValueError\u001b[0m                                Traceback (most recent call last)",
      "\u001b[1;32m<ipython-input-63-acac2015d75c>\u001b[0m in \u001b[0;36m<module>\u001b[1;34m()\u001b[0m\n\u001b[0;32m      1\u001b[0m \u001b[1;32mfor\u001b[0m \u001b[0mi\u001b[0m \u001b[1;32min\u001b[0m \u001b[0mrange\u001b[0m\u001b[1;33m(\u001b[0m\u001b[0mlen\u001b[0m\u001b[1;33m(\u001b[0m\u001b[0mdata\u001b[0m\u001b[1;33m[\u001b[0m\u001b[1;34m\"Category\"\u001b[0m\u001b[1;33m]\u001b[0m\u001b[1;33m)\u001b[0m\u001b[1;33m)\u001b[0m\u001b[1;33m:\u001b[0m\u001b[1;33m\u001b[0m\u001b[0m\n\u001b[1;32m----> 2\u001b[1;33m     \u001b[1;32mif\u001b[0m \u001b[0mdata\u001b[0m\u001b[1;33m[\u001b[0m\u001b[1;34m\"Category\"\u001b[0m\u001b[1;33m]\u001b[0m\u001b[1;33m[\u001b[0m\u001b[0mi\u001b[0m\u001b[1;33m]\u001b[0m\u001b[1;33m==\u001b[0m\u001b[0mcat_count\u001b[0m\u001b[1;33m.\u001b[0m\u001b[0mindex\u001b[0m\u001b[1;33m:\u001b[0m\u001b[1;33m\u001b[0m\u001b[0m\n\u001b[0m\u001b[0;32m      3\u001b[0m         \u001b[0mdata\u001b[0m\u001b[1;33m[\u001b[0m\u001b[1;34m\"Category\"\u001b[0m\u001b[1;33m]\u001b[0m\u001b[1;33m[\u001b[0m\u001b[0mi\u001b[0m\u001b[1;33m]\u001b[0m\u001b[1;33m=\u001b[0m\u001b[0mnp\u001b[0m\u001b[1;33m.\u001b[0m\u001b[0munique\u001b[0m\u001b[1;33m(\u001b[0m\u001b[0mnp\u001b[0m\u001b[1;33m.\u001b[0m\u001b[0mrandom\u001b[0m\u001b[1;33m.\u001b[0m\u001b[0mrandint\u001b[0m\u001b[1;33m(\u001b[0m\u001b[1;36m1\u001b[0m\u001b[1;33m,\u001b[0m \u001b[1;36m10\u001b[0m\u001b[1;33m,\u001b[0m \u001b[1;36m1\u001b[0m\u001b[1;33m)\u001b[0m\u001b[1;33m)\u001b[0m\u001b[1;33m\u001b[0m\u001b[0m\n",
      "\u001b[1;31mValueError\u001b[0m: The truth value of an array with more than one element is ambiguous. Use a.any() or a.all()"
     ]
    }
   ],
   "source": [
    "for i in range(len(data[\"Category\"])):\n",
    "    if data[\"Category\"][i]==cat_count.index:\n",
    "        data[\"Category\"][i]=np.unique(np.random.randint(1, 10, 1))"
   ]
  },
  {
   "cell_type": "code",
   "execution_count": 54,
   "metadata": {},
   "outputs": [
    {
     "name": "stderr",
     "output_type": "stream",
     "text": [
      "C:\\Users\\merus\\Anaconda3\\lib\\site-packages\\ipykernel_launcher.py:2: FutureWarning: elementwise comparison failed; returning scalar instead, but in the future will perform elementwise comparison\n",
      "  \n"
     ]
    }
   ],
   "source": [
    "for i in data[\"Category\"]:\n",
    "    if i==cat_count.values:\n",
    "        print(i)"
   ]
  },
  {
   "cell_type": "code",
   "execution_count": 52,
   "metadata": {},
   "outputs": [
    {
     "data": {
      "text/plain": [
       "0    Electronics\n",
       "1      Groceries\n",
       "2        Transit\n",
       "3    Electronics\n",
       "4      Groceries\n",
       "Name: Category, dtype: object"
      ]
     },
     "execution_count": 52,
     "metadata": {},
     "output_type": "execute_result"
    }
   ],
   "source": [
    "data[\"Category\"].head()"
   ]
  },
  {
   "cell_type": "code",
   "execution_count": 53,
   "metadata": {},
   "outputs": [
    {
     "data": {
      "text/html": [
       "<div>\n",
       "<style>\n",
       "    .dataframe thead tr:only-child th {\n",
       "        text-align: right;\n",
       "    }\n",
       "\n",
       "    .dataframe thead th {\n",
       "        text-align: left;\n",
       "    }\n",
       "\n",
       "    .dataframe tbody tr th {\n",
       "        vertical-align: top;\n",
       "    }\n",
       "</style>\n",
       "<table border=\"1\" class=\"dataframe\">\n",
       "  <thead>\n",
       "    <tr style=\"text-align: right;\">\n",
       "      <th></th>\n",
       "      <th>User id</th>\n",
       "      <th>Category</th>\n",
       "      <th>Product</th>\n",
       "      <th>Ordered Date</th>\n",
       "      <th>Price Spent</th>\n",
       "    </tr>\n",
       "  </thead>\n",
       "  <tbody>\n",
       "    <tr>\n",
       "      <th>0</th>\n",
       "      <td>2</td>\n",
       "      <td>Electronics</td>\n",
       "      <td>TV</td>\n",
       "      <td>2017-09-23</td>\n",
       "      <td>20000</td>\n",
       "    </tr>\n",
       "    <tr>\n",
       "      <th>1</th>\n",
       "      <td>1</td>\n",
       "      <td>Groceries</td>\n",
       "      <td>Rice</td>\n",
       "      <td>2017-09-24</td>\n",
       "      <td>1500</td>\n",
       "    </tr>\n",
       "    <tr>\n",
       "      <th>2</th>\n",
       "      <td>4</td>\n",
       "      <td>Transit</td>\n",
       "      <td>Cab Booking</td>\n",
       "      <td>2017-09-24</td>\n",
       "      <td>300</td>\n",
       "    </tr>\n",
       "    <tr>\n",
       "      <th>3</th>\n",
       "      <td>1</td>\n",
       "      <td>Electronics</td>\n",
       "      <td>Mobile</td>\n",
       "      <td>2017-09-25</td>\n",
       "      <td>15000</td>\n",
       "    </tr>\n",
       "    <tr>\n",
       "      <th>4</th>\n",
       "      <td>3</td>\n",
       "      <td>Groceries</td>\n",
       "      <td>Atta</td>\n",
       "      <td>2017-09-25</td>\n",
       "      <td>500</td>\n",
       "    </tr>\n",
       "  </tbody>\n",
       "</table>\n",
       "</div>"
      ],
      "text/plain": [
       "   User id     Category      Product Ordered Date  Price Spent\n",
       "0        2  Electronics           TV   2017-09-23        20000\n",
       "1        1    Groceries         Rice   2017-09-24         1500\n",
       "2        4      Transit  Cab Booking   2017-09-24          300\n",
       "3        1  Electronics       Mobile   2017-09-25        15000\n",
       "4        3    Groceries         Atta   2017-09-25          500"
      ]
     },
     "execution_count": 53,
     "metadata": {},
     "output_type": "execute_result"
    }
   ],
   "source": [
    "data.head()"
   ]
  },
  {
   "cell_type": "code",
   "execution_count": 327,
   "metadata": {
    "collapsed": true
   },
   "outputs": [],
   "source": [
    "data=pd.get_dummies(data,columns=[\"Category\",\"Product\"])"
   ]
  },
  {
   "cell_type": "code",
   "execution_count": 264,
   "metadata": {},
   "outputs": [
    {
     "data": {
      "text/html": [
       "<div>\n",
       "<style>\n",
       "    .dataframe thead tr:only-child th {\n",
       "        text-align: right;\n",
       "    }\n",
       "\n",
       "    .dataframe thead th {\n",
       "        text-align: left;\n",
       "    }\n",
       "\n",
       "    .dataframe tbody tr th {\n",
       "        vertical-align: top;\n",
       "    }\n",
       "</style>\n",
       "<table border=\"1\" class=\"dataframe\">\n",
       "  <thead>\n",
       "    <tr style=\"text-align: right;\">\n",
       "      <th></th>\n",
       "      <th>User id</th>\n",
       "      <th>Ordered Date</th>\n",
       "      <th>Price Spent</th>\n",
       "      <th>Category_Apparels</th>\n",
       "      <th>Category_Electronics</th>\n",
       "      <th>Category_Groceries</th>\n",
       "      <th>Category_Movies/Entertainment</th>\n",
       "      <th>Category_Transit</th>\n",
       "      <th>Product_Atta</th>\n",
       "      <th>Product_Cab Booking</th>\n",
       "      <th>Product_Clothing</th>\n",
       "      <th>Product_Dal</th>\n",
       "      <th>Product_Mobile</th>\n",
       "      <th>Product_Movie Booking</th>\n",
       "      <th>Product_Oven</th>\n",
       "      <th>Product_Refrigerator</th>\n",
       "      <th>Product_Rice</th>\n",
       "      <th>Product_TV</th>\n",
       "    </tr>\n",
       "  </thead>\n",
       "  <tbody>\n",
       "    <tr>\n",
       "      <th>0</th>\n",
       "      <td>2</td>\n",
       "      <td>2017-09-23</td>\n",
       "      <td>20000</td>\n",
       "      <td>0</td>\n",
       "      <td>1</td>\n",
       "      <td>0</td>\n",
       "      <td>0</td>\n",
       "      <td>0</td>\n",
       "      <td>0</td>\n",
       "      <td>0</td>\n",
       "      <td>0</td>\n",
       "      <td>0</td>\n",
       "      <td>0</td>\n",
       "      <td>0</td>\n",
       "      <td>0</td>\n",
       "      <td>0</td>\n",
       "      <td>0</td>\n",
       "      <td>1</td>\n",
       "    </tr>\n",
       "    <tr>\n",
       "      <th>1</th>\n",
       "      <td>1</td>\n",
       "      <td>2017-09-24</td>\n",
       "      <td>1500</td>\n",
       "      <td>0</td>\n",
       "      <td>0</td>\n",
       "      <td>1</td>\n",
       "      <td>0</td>\n",
       "      <td>0</td>\n",
       "      <td>0</td>\n",
       "      <td>0</td>\n",
       "      <td>0</td>\n",
       "      <td>0</td>\n",
       "      <td>0</td>\n",
       "      <td>0</td>\n",
       "      <td>0</td>\n",
       "      <td>0</td>\n",
       "      <td>1</td>\n",
       "      <td>0</td>\n",
       "    </tr>\n",
       "    <tr>\n",
       "      <th>2</th>\n",
       "      <td>4</td>\n",
       "      <td>2017-09-24</td>\n",
       "      <td>300</td>\n",
       "      <td>0</td>\n",
       "      <td>0</td>\n",
       "      <td>0</td>\n",
       "      <td>0</td>\n",
       "      <td>1</td>\n",
       "      <td>0</td>\n",
       "      <td>1</td>\n",
       "      <td>0</td>\n",
       "      <td>0</td>\n",
       "      <td>0</td>\n",
       "      <td>0</td>\n",
       "      <td>0</td>\n",
       "      <td>0</td>\n",
       "      <td>0</td>\n",
       "      <td>0</td>\n",
       "    </tr>\n",
       "    <tr>\n",
       "      <th>3</th>\n",
       "      <td>1</td>\n",
       "      <td>2017-09-25</td>\n",
       "      <td>15000</td>\n",
       "      <td>0</td>\n",
       "      <td>1</td>\n",
       "      <td>0</td>\n",
       "      <td>0</td>\n",
       "      <td>0</td>\n",
       "      <td>0</td>\n",
       "      <td>0</td>\n",
       "      <td>0</td>\n",
       "      <td>0</td>\n",
       "      <td>1</td>\n",
       "      <td>0</td>\n",
       "      <td>0</td>\n",
       "      <td>0</td>\n",
       "      <td>0</td>\n",
       "      <td>0</td>\n",
       "    </tr>\n",
       "    <tr>\n",
       "      <th>4</th>\n",
       "      <td>3</td>\n",
       "      <td>2017-09-25</td>\n",
       "      <td>500</td>\n",
       "      <td>0</td>\n",
       "      <td>0</td>\n",
       "      <td>1</td>\n",
       "      <td>0</td>\n",
       "      <td>0</td>\n",
       "      <td>1</td>\n",
       "      <td>0</td>\n",
       "      <td>0</td>\n",
       "      <td>0</td>\n",
       "      <td>0</td>\n",
       "      <td>0</td>\n",
       "      <td>0</td>\n",
       "      <td>0</td>\n",
       "      <td>0</td>\n",
       "      <td>0</td>\n",
       "    </tr>\n",
       "  </tbody>\n",
       "</table>\n",
       "</div>"
      ],
      "text/plain": [
       "   User id Ordered Date  Price Spent  Category_Apparels  Category_Electronics  \\\n",
       "0        2   2017-09-23        20000                  0                     1   \n",
       "1        1   2017-09-24         1500                  0                     0   \n",
       "2        4   2017-09-24          300                  0                     0   \n",
       "3        1   2017-09-25        15000                  0                     1   \n",
       "4        3   2017-09-25          500                  0                     0   \n",
       "\n",
       "   Category_Groceries  Category_Movies/Entertainment  Category_Transit  \\\n",
       "0                   0                              0                 0   \n",
       "1                   1                              0                 0   \n",
       "2                   0                              0                 1   \n",
       "3                   0                              0                 0   \n",
       "4                   1                              0                 0   \n",
       "\n",
       "   Product_Atta  Product_Cab Booking  Product_Clothing  Product_Dal  \\\n",
       "0             0                    0                 0            0   \n",
       "1             0                    0                 0            0   \n",
       "2             0                    1                 0            0   \n",
       "3             0                    0                 0            0   \n",
       "4             1                    0                 0            0   \n",
       "\n",
       "   Product_Mobile  Product_Movie Booking  Product_Oven  Product_Refrigerator  \\\n",
       "0               0                      0             0                     0   \n",
       "1               0                      0             0                     0   \n",
       "2               0                      0             0                     0   \n",
       "3               1                      0             0                     0   \n",
       "4               0                      0             0                     0   \n",
       "\n",
       "   Product_Rice  Product_TV  \n",
       "0             0           1  \n",
       "1             1           0  \n",
       "2             0           0  \n",
       "3             0           0  \n",
       "4             0           0  "
      ]
     },
     "execution_count": 264,
     "metadata": {},
     "output_type": "execute_result"
    }
   ],
   "source": [
    "data.head()"
   ]
  },
  {
   "cell_type": "code",
   "execution_count": 265,
   "metadata": {},
   "outputs": [
    {
     "data": {
      "text/plain": [
       "Index(['User id', 'Ordered Date', 'Price Spent', 'Category_Apparels',\n",
       "       'Category_Electronics', 'Category_Groceries',\n",
       "       'Category_Movies/Entertainment', 'Category_Transit', 'Product_Atta',\n",
       "       'Product_Cab Booking', 'Product_Clothing', 'Product_Dal',\n",
       "       'Product_Mobile', 'Product_Movie Booking', 'Product_Oven',\n",
       "       'Product_Refrigerator', 'Product_Rice', 'Product_TV'],\n",
       "      dtype='object')"
      ]
     },
     "execution_count": 265,
     "metadata": {},
     "output_type": "execute_result"
    }
   ],
   "source": [
    "data.columns"
   ]
  },
  {
   "cell_type": "code",
   "execution_count": 266,
   "metadata": {},
   "outputs": [
    {
     "data": {
      "text/html": [
       "<div>\n",
       "<style>\n",
       "    .dataframe thead tr:only-child th {\n",
       "        text-align: right;\n",
       "    }\n",
       "\n",
       "    .dataframe thead th {\n",
       "        text-align: left;\n",
       "    }\n",
       "\n",
       "    .dataframe tbody tr th {\n",
       "        vertical-align: top;\n",
       "    }\n",
       "</style>\n",
       "<table border=\"1\" class=\"dataframe\">\n",
       "  <thead>\n",
       "    <tr style=\"text-align: right;\">\n",
       "      <th></th>\n",
       "      <th>User id</th>\n",
       "      <th>Ordered_Date</th>\n",
       "      <th>Price Spent</th>\n",
       "      <th>Category_Apparels</th>\n",
       "      <th>Category_Electronics</th>\n",
       "      <th>Category_Groceries</th>\n",
       "      <th>Category_Movies/Entertainment</th>\n",
       "      <th>Category_Transit</th>\n",
       "      <th>Product_Atta</th>\n",
       "      <th>Product_Cab Booking</th>\n",
       "      <th>Product_Clothing</th>\n",
       "      <th>Product_Dal</th>\n",
       "      <th>Product_Mobile</th>\n",
       "      <th>Product_Movie Booking</th>\n",
       "      <th>Product_Oven</th>\n",
       "      <th>Product_Refrigerator</th>\n",
       "      <th>Product_Rice</th>\n",
       "      <th>Product_TV</th>\n",
       "    </tr>\n",
       "  </thead>\n",
       "  <tbody>\n",
       "    <tr>\n",
       "      <th>0</th>\n",
       "      <td>2</td>\n",
       "      <td>2017-09-23</td>\n",
       "      <td>20000</td>\n",
       "      <td>0</td>\n",
       "      <td>1</td>\n",
       "      <td>0</td>\n",
       "      <td>0</td>\n",
       "      <td>0</td>\n",
       "      <td>0</td>\n",
       "      <td>0</td>\n",
       "      <td>0</td>\n",
       "      <td>0</td>\n",
       "      <td>0</td>\n",
       "      <td>0</td>\n",
       "      <td>0</td>\n",
       "      <td>0</td>\n",
       "      <td>0</td>\n",
       "      <td>1</td>\n",
       "    </tr>\n",
       "    <tr>\n",
       "      <th>1</th>\n",
       "      <td>1</td>\n",
       "      <td>2017-09-24</td>\n",
       "      <td>1500</td>\n",
       "      <td>0</td>\n",
       "      <td>0</td>\n",
       "      <td>1</td>\n",
       "      <td>0</td>\n",
       "      <td>0</td>\n",
       "      <td>0</td>\n",
       "      <td>0</td>\n",
       "      <td>0</td>\n",
       "      <td>0</td>\n",
       "      <td>0</td>\n",
       "      <td>0</td>\n",
       "      <td>0</td>\n",
       "      <td>0</td>\n",
       "      <td>1</td>\n",
       "      <td>0</td>\n",
       "    </tr>\n",
       "    <tr>\n",
       "      <th>2</th>\n",
       "      <td>4</td>\n",
       "      <td>2017-09-24</td>\n",
       "      <td>300</td>\n",
       "      <td>0</td>\n",
       "      <td>0</td>\n",
       "      <td>0</td>\n",
       "      <td>0</td>\n",
       "      <td>1</td>\n",
       "      <td>0</td>\n",
       "      <td>1</td>\n",
       "      <td>0</td>\n",
       "      <td>0</td>\n",
       "      <td>0</td>\n",
       "      <td>0</td>\n",
       "      <td>0</td>\n",
       "      <td>0</td>\n",
       "      <td>0</td>\n",
       "      <td>0</td>\n",
       "    </tr>\n",
       "    <tr>\n",
       "      <th>3</th>\n",
       "      <td>1</td>\n",
       "      <td>2017-09-25</td>\n",
       "      <td>15000</td>\n",
       "      <td>0</td>\n",
       "      <td>1</td>\n",
       "      <td>0</td>\n",
       "      <td>0</td>\n",
       "      <td>0</td>\n",
       "      <td>0</td>\n",
       "      <td>0</td>\n",
       "      <td>0</td>\n",
       "      <td>0</td>\n",
       "      <td>1</td>\n",
       "      <td>0</td>\n",
       "      <td>0</td>\n",
       "      <td>0</td>\n",
       "      <td>0</td>\n",
       "      <td>0</td>\n",
       "    </tr>\n",
       "    <tr>\n",
       "      <th>4</th>\n",
       "      <td>3</td>\n",
       "      <td>2017-09-25</td>\n",
       "      <td>500</td>\n",
       "      <td>0</td>\n",
       "      <td>0</td>\n",
       "      <td>1</td>\n",
       "      <td>0</td>\n",
       "      <td>0</td>\n",
       "      <td>1</td>\n",
       "      <td>0</td>\n",
       "      <td>0</td>\n",
       "      <td>0</td>\n",
       "      <td>0</td>\n",
       "      <td>0</td>\n",
       "      <td>0</td>\n",
       "      <td>0</td>\n",
       "      <td>0</td>\n",
       "      <td>0</td>\n",
       "    </tr>\n",
       "  </tbody>\n",
       "</table>\n",
       "</div>"
      ],
      "text/plain": [
       "   User id Ordered_Date  Price Spent  Category_Apparels  Category_Electronics  \\\n",
       "0        2   2017-09-23        20000                  0                     1   \n",
       "1        1   2017-09-24         1500                  0                     0   \n",
       "2        4   2017-09-24          300                  0                     0   \n",
       "3        1   2017-09-25        15000                  0                     1   \n",
       "4        3   2017-09-25          500                  0                     0   \n",
       "\n",
       "   Category_Groceries  Category_Movies/Entertainment  Category_Transit  \\\n",
       "0                   0                              0                 0   \n",
       "1                   1                              0                 0   \n",
       "2                   0                              0                 1   \n",
       "3                   0                              0                 0   \n",
       "4                   1                              0                 0   \n",
       "\n",
       "   Product_Atta  Product_Cab Booking  Product_Clothing  Product_Dal  \\\n",
       "0             0                    0                 0            0   \n",
       "1             0                    0                 0            0   \n",
       "2             0                    1                 0            0   \n",
       "3             0                    0                 0            0   \n",
       "4             1                    0                 0            0   \n",
       "\n",
       "   Product_Mobile  Product_Movie Booking  Product_Oven  Product_Refrigerator  \\\n",
       "0               0                      0             0                     0   \n",
       "1               0                      0             0                     0   \n",
       "2               0                      0             0                     0   \n",
       "3               1                      0             0                     0   \n",
       "4               0                      0             0                     0   \n",
       "\n",
       "   Product_Rice  Product_TV  \n",
       "0             0           1  \n",
       "1             1           0  \n",
       "2             0           0  \n",
       "3             0           0  \n",
       "4             0           0  "
      ]
     },
     "execution_count": 266,
     "metadata": {},
     "output_type": "execute_result"
    }
   ],
   "source": [
    "data.rename(columns = {'Ordered Date':'Ordered_Date'}, inplace = True)\n",
    "data.head()"
   ]
  },
  {
   "cell_type": "code",
   "execution_count": 267,
   "metadata": {
    "collapsed": true
   },
   "outputs": [],
   "source": [
    "data.drop(['Ordered_Date'],axis=1, inplace=True)"
   ]
  },
  {
   "cell_type": "code",
   "execution_count": 268,
   "metadata": {},
   "outputs": [
    {
     "data": {
      "text/html": [
       "<div>\n",
       "<style>\n",
       "    .dataframe thead tr:only-child th {\n",
       "        text-align: right;\n",
       "    }\n",
       "\n",
       "    .dataframe thead th {\n",
       "        text-align: left;\n",
       "    }\n",
       "\n",
       "    .dataframe tbody tr th {\n",
       "        vertical-align: top;\n",
       "    }\n",
       "</style>\n",
       "<table border=\"1\" class=\"dataframe\">\n",
       "  <thead>\n",
       "    <tr style=\"text-align: right;\">\n",
       "      <th></th>\n",
       "      <th>User id</th>\n",
       "      <th>Price Spent</th>\n",
       "      <th>Category_Apparels</th>\n",
       "      <th>Category_Electronics</th>\n",
       "      <th>Category_Groceries</th>\n",
       "      <th>Category_Movies/Entertainment</th>\n",
       "      <th>Category_Transit</th>\n",
       "      <th>Product_Atta</th>\n",
       "      <th>Product_Cab Booking</th>\n",
       "      <th>Product_Clothing</th>\n",
       "      <th>Product_Dal</th>\n",
       "      <th>Product_Mobile</th>\n",
       "      <th>Product_Movie Booking</th>\n",
       "      <th>Product_Oven</th>\n",
       "      <th>Product_Refrigerator</th>\n",
       "      <th>Product_Rice</th>\n",
       "      <th>Product_TV</th>\n",
       "    </tr>\n",
       "  </thead>\n",
       "  <tbody>\n",
       "    <tr>\n",
       "      <th>0</th>\n",
       "      <td>2</td>\n",
       "      <td>20000</td>\n",
       "      <td>0</td>\n",
       "      <td>1</td>\n",
       "      <td>0</td>\n",
       "      <td>0</td>\n",
       "      <td>0</td>\n",
       "      <td>0</td>\n",
       "      <td>0</td>\n",
       "      <td>0</td>\n",
       "      <td>0</td>\n",
       "      <td>0</td>\n",
       "      <td>0</td>\n",
       "      <td>0</td>\n",
       "      <td>0</td>\n",
       "      <td>0</td>\n",
       "      <td>1</td>\n",
       "    </tr>\n",
       "    <tr>\n",
       "      <th>1</th>\n",
       "      <td>1</td>\n",
       "      <td>1500</td>\n",
       "      <td>0</td>\n",
       "      <td>0</td>\n",
       "      <td>1</td>\n",
       "      <td>0</td>\n",
       "      <td>0</td>\n",
       "      <td>0</td>\n",
       "      <td>0</td>\n",
       "      <td>0</td>\n",
       "      <td>0</td>\n",
       "      <td>0</td>\n",
       "      <td>0</td>\n",
       "      <td>0</td>\n",
       "      <td>0</td>\n",
       "      <td>1</td>\n",
       "      <td>0</td>\n",
       "    </tr>\n",
       "    <tr>\n",
       "      <th>2</th>\n",
       "      <td>4</td>\n",
       "      <td>300</td>\n",
       "      <td>0</td>\n",
       "      <td>0</td>\n",
       "      <td>0</td>\n",
       "      <td>0</td>\n",
       "      <td>1</td>\n",
       "      <td>0</td>\n",
       "      <td>1</td>\n",
       "      <td>0</td>\n",
       "      <td>0</td>\n",
       "      <td>0</td>\n",
       "      <td>0</td>\n",
       "      <td>0</td>\n",
       "      <td>0</td>\n",
       "      <td>0</td>\n",
       "      <td>0</td>\n",
       "    </tr>\n",
       "    <tr>\n",
       "      <th>3</th>\n",
       "      <td>1</td>\n",
       "      <td>15000</td>\n",
       "      <td>0</td>\n",
       "      <td>1</td>\n",
       "      <td>0</td>\n",
       "      <td>0</td>\n",
       "      <td>0</td>\n",
       "      <td>0</td>\n",
       "      <td>0</td>\n",
       "      <td>0</td>\n",
       "      <td>0</td>\n",
       "      <td>1</td>\n",
       "      <td>0</td>\n",
       "      <td>0</td>\n",
       "      <td>0</td>\n",
       "      <td>0</td>\n",
       "      <td>0</td>\n",
       "    </tr>\n",
       "    <tr>\n",
       "      <th>4</th>\n",
       "      <td>3</td>\n",
       "      <td>500</td>\n",
       "      <td>0</td>\n",
       "      <td>0</td>\n",
       "      <td>1</td>\n",
       "      <td>0</td>\n",
       "      <td>0</td>\n",
       "      <td>1</td>\n",
       "      <td>0</td>\n",
       "      <td>0</td>\n",
       "      <td>0</td>\n",
       "      <td>0</td>\n",
       "      <td>0</td>\n",
       "      <td>0</td>\n",
       "      <td>0</td>\n",
       "      <td>0</td>\n",
       "      <td>0</td>\n",
       "    </tr>\n",
       "  </tbody>\n",
       "</table>\n",
       "</div>"
      ],
      "text/plain": [
       "   User id  Price Spent  Category_Apparels  Category_Electronics  \\\n",
       "0        2        20000                  0                     1   \n",
       "1        1         1500                  0                     0   \n",
       "2        4          300                  0                     0   \n",
       "3        1        15000                  0                     1   \n",
       "4        3          500                  0                     0   \n",
       "\n",
       "   Category_Groceries  Category_Movies/Entertainment  Category_Transit  \\\n",
       "0                   0                              0                 0   \n",
       "1                   1                              0                 0   \n",
       "2                   0                              0                 1   \n",
       "3                   0                              0                 0   \n",
       "4                   1                              0                 0   \n",
       "\n",
       "   Product_Atta  Product_Cab Booking  Product_Clothing  Product_Dal  \\\n",
       "0             0                    0                 0            0   \n",
       "1             0                    0                 0            0   \n",
       "2             0                    1                 0            0   \n",
       "3             0                    0                 0            0   \n",
       "4             1                    0                 0            0   \n",
       "\n",
       "   Product_Mobile  Product_Movie Booking  Product_Oven  Product_Refrigerator  \\\n",
       "0               0                      0             0                     0   \n",
       "1               0                      0             0                     0   \n",
       "2               0                      0             0                     0   \n",
       "3               1                      0             0                     0   \n",
       "4               0                      0             0                     0   \n",
       "\n",
       "   Product_Rice  Product_TV  \n",
       "0             0           1  \n",
       "1             1           0  \n",
       "2             0           0  \n",
       "3             0           0  \n",
       "4             0           0  "
      ]
     },
     "execution_count": 268,
     "metadata": {},
     "output_type": "execute_result"
    }
   ],
   "source": [
    "data.head()"
   ]
  },
  {
   "cell_type": "code",
   "execution_count": 297,
   "metadata": {
    "collapsed": true
   },
   "outputs": [],
   "source": [
    "X=data.values\n",
    "#X"
   ]
  },
  {
   "cell_type": "code",
   "execution_count": 280,
   "metadata": {
    "collapsed": true
   },
   "outputs": [],
   "source": [
    "# clustering \n",
    "from sklearn.cluster import KMeans"
   ]
  },
  {
   "cell_type": "code",
   "execution_count": 281,
   "metadata": {},
   "outputs": [
    {
     "name": "stdout",
     "output_type": "stream",
     "text": [
      "[[  2.52941176e+00   2.00882353e+03   2.35294118e-01   8.82352941e-02\n",
      "    2.05882353e-01   2.05882353e-01   2.64705882e-01   5.88235294e-02\n",
      "    2.64705882e-01   2.35294118e-01   5.88235294e-02   5.88235294e-02\n",
      "    2.05882353e-01   2.94117647e-02  -3.46944695e-17   8.82352941e-02\n",
      "   -3.46944695e-17]\n",
      " [  2.62500000e+00   2.68750000e+04   1.25000000e-01   8.75000000e-01\n",
      "    0.00000000e+00   0.00000000e+00   2.77555756e-17   0.00000000e+00\n",
      "    2.77555756e-17   1.25000000e-01   0.00000000e+00   3.75000000e-01\n",
      "    0.00000000e+00   0.00000000e+00   2.50000000e-01   1.38777878e-17\n",
      "    2.50000000e-01]]\n",
      "[1 0 0 1 0 0 0 1 0 0 1 0 0 0 0 0 0 0 0 0 0 0 0 0 0 0 0 0 0 0 0 0 1 1 1 0 1\n",
      " 0 0 0 0 0]\n"
     ]
    }
   ],
   "source": [
    "kmeans = KMeans(n_clusters=2)\n",
    "kmeans.fit(data)\n",
    "\n",
    "centroids = kmeans.cluster_centers_\n",
    "labels = kmeans.labels_\n",
    "\n",
    "print(centroids)\n",
    "print(labels)\n"
   ]
  },
  {
   "cell_type": "code",
   "execution_count": 291,
   "metadata": {},
   "outputs": [
    {
     "data": {
      "text/html": [
       "<div>\n",
       "<style>\n",
       "    .dataframe thead tr:only-child th {\n",
       "        text-align: right;\n",
       "    }\n",
       "\n",
       "    .dataframe thead th {\n",
       "        text-align: left;\n",
       "    }\n",
       "\n",
       "    .dataframe tbody tr th {\n",
       "        vertical-align: top;\n",
       "    }\n",
       "</style>\n",
       "<table border=\"1\" class=\"dataframe\">\n",
       "  <thead>\n",
       "    <tr style=\"text-align: right;\">\n",
       "      <th></th>\n",
       "      <th>User id</th>\n",
       "      <th>Price Spent</th>\n",
       "      <th>Category_Apparels</th>\n",
       "      <th>Category_Electronics</th>\n",
       "      <th>Category_Groceries</th>\n",
       "      <th>Category_Movies/Entertainment</th>\n",
       "      <th>Category_Transit</th>\n",
       "      <th>Product_Atta</th>\n",
       "      <th>Product_Cab Booking</th>\n",
       "      <th>Product_Clothing</th>\n",
       "      <th>Product_Dal</th>\n",
       "      <th>Product_Mobile</th>\n",
       "      <th>Product_Movie Booking</th>\n",
       "      <th>Product_Oven</th>\n",
       "      <th>Product_Refrigerator</th>\n",
       "      <th>Product_Rice</th>\n",
       "      <th>Product_TV</th>\n",
       "    </tr>\n",
       "  </thead>\n",
       "  <tbody>\n",
       "    <tr>\n",
       "      <th>0</th>\n",
       "      <td>2</td>\n",
       "      <td>20000</td>\n",
       "      <td>0</td>\n",
       "      <td>1</td>\n",
       "      <td>0</td>\n",
       "      <td>0</td>\n",
       "      <td>0</td>\n",
       "      <td>0</td>\n",
       "      <td>0</td>\n",
       "      <td>0</td>\n",
       "      <td>0</td>\n",
       "      <td>0</td>\n",
       "      <td>0</td>\n",
       "      <td>0</td>\n",
       "      <td>0</td>\n",
       "      <td>0</td>\n",
       "      <td>1</td>\n",
       "    </tr>\n",
       "    <tr>\n",
       "      <th>1</th>\n",
       "      <td>1</td>\n",
       "      <td>1500</td>\n",
       "      <td>0</td>\n",
       "      <td>0</td>\n",
       "      <td>1</td>\n",
       "      <td>0</td>\n",
       "      <td>0</td>\n",
       "      <td>0</td>\n",
       "      <td>0</td>\n",
       "      <td>0</td>\n",
       "      <td>0</td>\n",
       "      <td>0</td>\n",
       "      <td>0</td>\n",
       "      <td>0</td>\n",
       "      <td>0</td>\n",
       "      <td>1</td>\n",
       "      <td>0</td>\n",
       "    </tr>\n",
       "    <tr>\n",
       "      <th>2</th>\n",
       "      <td>4</td>\n",
       "      <td>300</td>\n",
       "      <td>0</td>\n",
       "      <td>0</td>\n",
       "      <td>0</td>\n",
       "      <td>0</td>\n",
       "      <td>1</td>\n",
       "      <td>0</td>\n",
       "      <td>1</td>\n",
       "      <td>0</td>\n",
       "      <td>0</td>\n",
       "      <td>0</td>\n",
       "      <td>0</td>\n",
       "      <td>0</td>\n",
       "      <td>0</td>\n",
       "      <td>0</td>\n",
       "      <td>0</td>\n",
       "    </tr>\n",
       "    <tr>\n",
       "      <th>3</th>\n",
       "      <td>1</td>\n",
       "      <td>15000</td>\n",
       "      <td>0</td>\n",
       "      <td>1</td>\n",
       "      <td>0</td>\n",
       "      <td>0</td>\n",
       "      <td>0</td>\n",
       "      <td>0</td>\n",
       "      <td>0</td>\n",
       "      <td>0</td>\n",
       "      <td>0</td>\n",
       "      <td>1</td>\n",
       "      <td>0</td>\n",
       "      <td>0</td>\n",
       "      <td>0</td>\n",
       "      <td>0</td>\n",
       "      <td>0</td>\n",
       "    </tr>\n",
       "    <tr>\n",
       "      <th>4</th>\n",
       "      <td>3</td>\n",
       "      <td>500</td>\n",
       "      <td>0</td>\n",
       "      <td>0</td>\n",
       "      <td>1</td>\n",
       "      <td>0</td>\n",
       "      <td>0</td>\n",
       "      <td>1</td>\n",
       "      <td>0</td>\n",
       "      <td>0</td>\n",
       "      <td>0</td>\n",
       "      <td>0</td>\n",
       "      <td>0</td>\n",
       "      <td>0</td>\n",
       "      <td>0</td>\n",
       "      <td>0</td>\n",
       "      <td>0</td>\n",
       "    </tr>\n",
       "  </tbody>\n",
       "</table>\n",
       "</div>"
      ],
      "text/plain": [
       "   User id  Price Spent  Category_Apparels  Category_Electronics  \\\n",
       "0        2        20000                  0                     1   \n",
       "1        1         1500                  0                     0   \n",
       "2        4          300                  0                     0   \n",
       "3        1        15000                  0                     1   \n",
       "4        3          500                  0                     0   \n",
       "\n",
       "   Category_Groceries  Category_Movies/Entertainment  Category_Transit  \\\n",
       "0                   0                              0                 0   \n",
       "1                   1                              0                 0   \n",
       "2                   0                              0                 1   \n",
       "3                   0                              0                 0   \n",
       "4                   1                              0                 0   \n",
       "\n",
       "   Product_Atta  Product_Cab Booking  Product_Clothing  Product_Dal  \\\n",
       "0             0                    0                 0            0   \n",
       "1             0                    0                 0            0   \n",
       "2             0                    1                 0            0   \n",
       "3             0                    0                 0            0   \n",
       "4             1                    0                 0            0   \n",
       "\n",
       "   Product_Mobile  Product_Movie Booking  Product_Oven  Product_Refrigerator  \\\n",
       "0               0                      0             0                     0   \n",
       "1               0                      0             0                     0   \n",
       "2               0                      0             0                     0   \n",
       "3               1                      0             0                     0   \n",
       "4               0                      0             0                     0   \n",
       "\n",
       "   Product_Rice  Product_TV  \n",
       "0             0           1  \n",
       "1             1           0  \n",
       "2             0           0  \n",
       "3             0           0  \n",
       "4             0           0  "
      ]
     },
     "execution_count": 291,
     "metadata": {},
     "output_type": "execute_result"
    }
   ],
   "source": [
    "len(data)\n",
    "data_new=data\n",
    "data_new.head()"
   ]
  },
  {
   "cell_type": "code",
   "execution_count": 333,
   "metadata": {},
   "outputs": [
    {
     "ename": "TypeError",
     "evalue": "float() argument must be a string or a number, not 'Timestamp'",
     "output_type": "error",
     "traceback": [
      "\u001b[1;31m---------------------------------------------------------------------------\u001b[0m",
      "\u001b[1;31mTypeError\u001b[0m                                 Traceback (most recent call last)",
      "\u001b[1;32m<ipython-input-333-c6e9e7084927>\u001b[0m in \u001b[0;36m<module>\u001b[1;34m()\u001b[0m\n\u001b[0;32m      2\u001b[0m \u001b[1;32mfor\u001b[0m \u001b[0mi\u001b[0m \u001b[1;32min\u001b[0m \u001b[0mrange\u001b[0m\u001b[1;33m(\u001b[0m\u001b[1;36m1\u001b[0m\u001b[1;33m,\u001b[0m\u001b[0mlen\u001b[0m\u001b[1;33m(\u001b[0m\u001b[0mdata\u001b[0m\u001b[1;33m)\u001b[0m\u001b[1;33m)\u001b[0m\u001b[1;33m:\u001b[0m\u001b[1;33m\u001b[0m\u001b[0m\n\u001b[0;32m      3\u001b[0m     \u001b[0mkmeans\u001b[0m\u001b[1;33m=\u001b[0m\u001b[0mKMeans\u001b[0m\u001b[1;33m(\u001b[0m\u001b[0mn_clusters\u001b[0m\u001b[1;33m=\u001b[0m\u001b[0mi\u001b[0m\u001b[1;33m,\u001b[0m\u001b[0minit\u001b[0m\u001b[1;33m=\u001b[0m\u001b[1;34m\"k-means++\"\u001b[0m\u001b[1;33m,\u001b[0m\u001b[0mmax_iter\u001b[0m\u001b[1;33m=\u001b[0m\u001b[1;36m300\u001b[0m\u001b[1;33m,\u001b[0m\u001b[0mn_init\u001b[0m\u001b[1;33m=\u001b[0m\u001b[1;36m10\u001b[0m\u001b[1;33m,\u001b[0m\u001b[0mrandom_state\u001b[0m\u001b[1;33m=\u001b[0m\u001b[1;36m0\u001b[0m\u001b[1;33m)\u001b[0m\u001b[1;33m\u001b[0m\u001b[0m\n\u001b[1;32m----> 4\u001b[1;33m     \u001b[0mkmeans\u001b[0m\u001b[1;33m.\u001b[0m\u001b[0mfit\u001b[0m\u001b[1;33m(\u001b[0m\u001b[0mdata\u001b[0m\u001b[1;33m.\u001b[0m\u001b[0mvalues\u001b[0m\u001b[1;33m)\u001b[0m\u001b[1;33m\u001b[0m\u001b[0m\n\u001b[0m\u001b[0;32m      5\u001b[0m     \u001b[0mwcss\u001b[0m\u001b[1;33m.\u001b[0m\u001b[0mappend\u001b[0m\u001b[1;33m(\u001b[0m\u001b[0mkmeans\u001b[0m\u001b[1;33m.\u001b[0m\u001b[0minertia_\u001b[0m\u001b[1;33m)\u001b[0m\u001b[1;33m\u001b[0m\u001b[0m\n\u001b[0;32m      6\u001b[0m \u001b[0mplt\u001b[0m\u001b[1;33m.\u001b[0m\u001b[0mplot\u001b[0m\u001b[1;33m(\u001b[0m\u001b[0mrange\u001b[0m\u001b[1;33m(\u001b[0m\u001b[0mlen\u001b[0m\u001b[1;33m(\u001b[0m\u001b[0mdata\u001b[0m\u001b[1;33m)\u001b[0m\u001b[1;33m)\u001b[0m\u001b[1;33m,\u001b[0m\u001b[0mwcss\u001b[0m\u001b[1;33m)\u001b[0m\u001b[1;33m\u001b[0m\u001b[0m\n",
      "\u001b[1;32m~\\Anaconda3\\lib\\site-packages\\sklearn\\cluster\\k_means_.py\u001b[0m in \u001b[0;36mfit\u001b[1;34m(self, X, y)\u001b[0m\n\u001b[0;32m    885\u001b[0m         \"\"\"\n\u001b[0;32m    886\u001b[0m         \u001b[0mrandom_state\u001b[0m \u001b[1;33m=\u001b[0m \u001b[0mcheck_random_state\u001b[0m\u001b[1;33m(\u001b[0m\u001b[0mself\u001b[0m\u001b[1;33m.\u001b[0m\u001b[0mrandom_state\u001b[0m\u001b[1;33m)\u001b[0m\u001b[1;33m\u001b[0m\u001b[0m\n\u001b[1;32m--> 887\u001b[1;33m         \u001b[0mX\u001b[0m \u001b[1;33m=\u001b[0m \u001b[0mself\u001b[0m\u001b[1;33m.\u001b[0m\u001b[0m_check_fit_data\u001b[0m\u001b[1;33m(\u001b[0m\u001b[0mX\u001b[0m\u001b[1;33m)\u001b[0m\u001b[1;33m\u001b[0m\u001b[0m\n\u001b[0m\u001b[0;32m    888\u001b[0m \u001b[1;33m\u001b[0m\u001b[0m\n\u001b[0;32m    889\u001b[0m         \u001b[0mself\u001b[0m\u001b[1;33m.\u001b[0m\u001b[0mcluster_centers_\u001b[0m\u001b[1;33m,\u001b[0m \u001b[0mself\u001b[0m\u001b[1;33m.\u001b[0m\u001b[0mlabels_\u001b[0m\u001b[1;33m,\u001b[0m \u001b[0mself\u001b[0m\u001b[1;33m.\u001b[0m\u001b[0minertia_\u001b[0m\u001b[1;33m,\u001b[0m \u001b[0mself\u001b[0m\u001b[1;33m.\u001b[0m\u001b[0mn_iter_\u001b[0m \u001b[1;33m=\u001b[0m\u001b[0;31m \u001b[0m\u001b[0;31m\\\u001b[0m\u001b[1;33m\u001b[0m\u001b[0m\n",
      "\u001b[1;32m~\\Anaconda3\\lib\\site-packages\\sklearn\\cluster\\k_means_.py\u001b[0m in \u001b[0;36m_check_fit_data\u001b[1;34m(self, X)\u001b[0m\n\u001b[0;32m    856\u001b[0m     \u001b[1;32mdef\u001b[0m \u001b[0m_check_fit_data\u001b[0m\u001b[1;33m(\u001b[0m\u001b[0mself\u001b[0m\u001b[1;33m,\u001b[0m \u001b[0mX\u001b[0m\u001b[1;33m)\u001b[0m\u001b[1;33m:\u001b[0m\u001b[1;33m\u001b[0m\u001b[0m\n\u001b[0;32m    857\u001b[0m         \u001b[1;34m\"\"\"Verify that the number of samples given is larger than k\"\"\"\u001b[0m\u001b[1;33m\u001b[0m\u001b[0m\n\u001b[1;32m--> 858\u001b[1;33m         \u001b[0mX\u001b[0m \u001b[1;33m=\u001b[0m \u001b[0mcheck_array\u001b[0m\u001b[1;33m(\u001b[0m\u001b[0mX\u001b[0m\u001b[1;33m,\u001b[0m \u001b[0maccept_sparse\u001b[0m\u001b[1;33m=\u001b[0m\u001b[1;34m'csr'\u001b[0m\u001b[1;33m,\u001b[0m \u001b[0mdtype\u001b[0m\u001b[1;33m=\u001b[0m\u001b[1;33m[\u001b[0m\u001b[0mnp\u001b[0m\u001b[1;33m.\u001b[0m\u001b[0mfloat64\u001b[0m\u001b[1;33m,\u001b[0m \u001b[0mnp\u001b[0m\u001b[1;33m.\u001b[0m\u001b[0mfloat32\u001b[0m\u001b[1;33m]\u001b[0m\u001b[1;33m)\u001b[0m\u001b[1;33m\u001b[0m\u001b[0m\n\u001b[0m\u001b[0;32m    859\u001b[0m         \u001b[1;32mif\u001b[0m \u001b[0mX\u001b[0m\u001b[1;33m.\u001b[0m\u001b[0mshape\u001b[0m\u001b[1;33m[\u001b[0m\u001b[1;36m0\u001b[0m\u001b[1;33m]\u001b[0m \u001b[1;33m<\u001b[0m \u001b[0mself\u001b[0m\u001b[1;33m.\u001b[0m\u001b[0mn_clusters\u001b[0m\u001b[1;33m:\u001b[0m\u001b[1;33m\u001b[0m\u001b[0m\n\u001b[0;32m    860\u001b[0m             raise ValueError(\"n_samples=%d should be >= n_clusters=%d\" % (\n",
      "\u001b[1;32m~\\Anaconda3\\lib\\site-packages\\sklearn\\utils\\validation.py\u001b[0m in \u001b[0;36mcheck_array\u001b[1;34m(array, accept_sparse, dtype, order, copy, force_all_finite, ensure_2d, allow_nd, ensure_min_samples, ensure_min_features, warn_on_dtype, estimator)\u001b[0m\n\u001b[0;32m    431\u001b[0m                                       force_all_finite)\n\u001b[0;32m    432\u001b[0m     \u001b[1;32melse\u001b[0m\u001b[1;33m:\u001b[0m\u001b[1;33m\u001b[0m\u001b[0m\n\u001b[1;32m--> 433\u001b[1;33m         \u001b[0marray\u001b[0m \u001b[1;33m=\u001b[0m \u001b[0mnp\u001b[0m\u001b[1;33m.\u001b[0m\u001b[0marray\u001b[0m\u001b[1;33m(\u001b[0m\u001b[0marray\u001b[0m\u001b[1;33m,\u001b[0m \u001b[0mdtype\u001b[0m\u001b[1;33m=\u001b[0m\u001b[0mdtype\u001b[0m\u001b[1;33m,\u001b[0m \u001b[0morder\u001b[0m\u001b[1;33m=\u001b[0m\u001b[0morder\u001b[0m\u001b[1;33m,\u001b[0m \u001b[0mcopy\u001b[0m\u001b[1;33m=\u001b[0m\u001b[0mcopy\u001b[0m\u001b[1;33m)\u001b[0m\u001b[1;33m\u001b[0m\u001b[0m\n\u001b[0m\u001b[0;32m    434\u001b[0m \u001b[1;33m\u001b[0m\u001b[0m\n\u001b[0;32m    435\u001b[0m         \u001b[1;32mif\u001b[0m \u001b[0mensure_2d\u001b[0m\u001b[1;33m:\u001b[0m\u001b[1;33m\u001b[0m\u001b[0m\n",
      "\u001b[1;31mTypeError\u001b[0m: float() argument must be a string or a number, not 'Timestamp'"
     ]
    }
   ],
   "source": [
    "wcss=[]\n",
    "for i in range(1,len(data)):\n",
    "    kmeans=KMeans(n_clusters=i,init=\"k-means++\",max_iter=300,n_init=10,random_state=0)\n",
    "    kmeans.fit(data.values)\n",
    "    wcss.append(kmeans.inertia_)\n",
    "plt.plot(range(len(data)),wcss)\n",
    "plt.title(\"Elbow Curve\")\n",
    "plt.xlabel(\"Number of clusters\")\n",
    "plt.ylabel(\"wcss\")\n",
    "plt.show()"
   ]
  },
  {
   "cell_type": "code",
   "execution_count": 330,
   "metadata": {},
   "outputs": [
    {
     "ename": "TypeError",
     "evalue": "float() argument must be a string or a number, not 'Timestamp'",
     "output_type": "error",
     "traceback": [
      "\u001b[1;31m---------------------------------------------------------------------------\u001b[0m",
      "\u001b[1;31mTypeError\u001b[0m                                 Traceback (most recent call last)",
      "\u001b[1;32m<ipython-input-330-e64ca506d7f3>\u001b[0m in \u001b[0;36m<module>\u001b[1;34m()\u001b[0m\n\u001b[0;32m      1\u001b[0m \u001b[0mkmeans\u001b[0m\u001b[1;33m=\u001b[0m\u001b[0mKMeans\u001b[0m\u001b[1;33m(\u001b[0m\u001b[0mn_clusters\u001b[0m\u001b[1;33m=\u001b[0m\u001b[0mi\u001b[0m\u001b[1;33m,\u001b[0m\u001b[0minit\u001b[0m\u001b[1;33m=\u001b[0m\u001b[1;34m\"k-means++\"\u001b[0m\u001b[1;33m,\u001b[0m\u001b[0mmax_iter\u001b[0m\u001b[1;33m=\u001b[0m\u001b[1;36m300\u001b[0m\u001b[1;33m,\u001b[0m\u001b[0mn_init\u001b[0m\u001b[1;33m=\u001b[0m\u001b[1;36m10\u001b[0m\u001b[1;33m,\u001b[0m\u001b[0mrandom_state\u001b[0m\u001b[1;33m=\u001b[0m\u001b[1;36m0\u001b[0m\u001b[1;33m)\u001b[0m\u001b[1;33m\u001b[0m\u001b[0m\n\u001b[1;32m----> 2\u001b[1;33m \u001b[0mkmeans\u001b[0m\u001b[1;33m.\u001b[0m\u001b[0mfit\u001b[0m\u001b[1;33m(\u001b[0m\u001b[0mdata\u001b[0m\u001b[1;33m.\u001b[0m\u001b[0mvalues\u001b[0m\u001b[1;33m)\u001b[0m\u001b[1;33m\u001b[0m\u001b[0m\n\u001b[0m",
      "\u001b[1;32m~\\Anaconda3\\lib\\site-packages\\sklearn\\cluster\\k_means_.py\u001b[0m in \u001b[0;36mfit\u001b[1;34m(self, X, y)\u001b[0m\n\u001b[0;32m    885\u001b[0m         \"\"\"\n\u001b[0;32m    886\u001b[0m         \u001b[0mrandom_state\u001b[0m \u001b[1;33m=\u001b[0m \u001b[0mcheck_random_state\u001b[0m\u001b[1;33m(\u001b[0m\u001b[0mself\u001b[0m\u001b[1;33m.\u001b[0m\u001b[0mrandom_state\u001b[0m\u001b[1;33m)\u001b[0m\u001b[1;33m\u001b[0m\u001b[0m\n\u001b[1;32m--> 887\u001b[1;33m         \u001b[0mX\u001b[0m \u001b[1;33m=\u001b[0m \u001b[0mself\u001b[0m\u001b[1;33m.\u001b[0m\u001b[0m_check_fit_data\u001b[0m\u001b[1;33m(\u001b[0m\u001b[0mX\u001b[0m\u001b[1;33m)\u001b[0m\u001b[1;33m\u001b[0m\u001b[0m\n\u001b[0m\u001b[0;32m    888\u001b[0m \u001b[1;33m\u001b[0m\u001b[0m\n\u001b[0;32m    889\u001b[0m         \u001b[0mself\u001b[0m\u001b[1;33m.\u001b[0m\u001b[0mcluster_centers_\u001b[0m\u001b[1;33m,\u001b[0m \u001b[0mself\u001b[0m\u001b[1;33m.\u001b[0m\u001b[0mlabels_\u001b[0m\u001b[1;33m,\u001b[0m \u001b[0mself\u001b[0m\u001b[1;33m.\u001b[0m\u001b[0minertia_\u001b[0m\u001b[1;33m,\u001b[0m \u001b[0mself\u001b[0m\u001b[1;33m.\u001b[0m\u001b[0mn_iter_\u001b[0m \u001b[1;33m=\u001b[0m\u001b[0;31m \u001b[0m\u001b[0;31m\\\u001b[0m\u001b[1;33m\u001b[0m\u001b[0m\n",
      "\u001b[1;32m~\\Anaconda3\\lib\\site-packages\\sklearn\\cluster\\k_means_.py\u001b[0m in \u001b[0;36m_check_fit_data\u001b[1;34m(self, X)\u001b[0m\n\u001b[0;32m    856\u001b[0m     \u001b[1;32mdef\u001b[0m \u001b[0m_check_fit_data\u001b[0m\u001b[1;33m(\u001b[0m\u001b[0mself\u001b[0m\u001b[1;33m,\u001b[0m \u001b[0mX\u001b[0m\u001b[1;33m)\u001b[0m\u001b[1;33m:\u001b[0m\u001b[1;33m\u001b[0m\u001b[0m\n\u001b[0;32m    857\u001b[0m         \u001b[1;34m\"\"\"Verify that the number of samples given is larger than k\"\"\"\u001b[0m\u001b[1;33m\u001b[0m\u001b[0m\n\u001b[1;32m--> 858\u001b[1;33m         \u001b[0mX\u001b[0m \u001b[1;33m=\u001b[0m \u001b[0mcheck_array\u001b[0m\u001b[1;33m(\u001b[0m\u001b[0mX\u001b[0m\u001b[1;33m,\u001b[0m \u001b[0maccept_sparse\u001b[0m\u001b[1;33m=\u001b[0m\u001b[1;34m'csr'\u001b[0m\u001b[1;33m,\u001b[0m \u001b[0mdtype\u001b[0m\u001b[1;33m=\u001b[0m\u001b[1;33m[\u001b[0m\u001b[0mnp\u001b[0m\u001b[1;33m.\u001b[0m\u001b[0mfloat64\u001b[0m\u001b[1;33m,\u001b[0m \u001b[0mnp\u001b[0m\u001b[1;33m.\u001b[0m\u001b[0mfloat32\u001b[0m\u001b[1;33m]\u001b[0m\u001b[1;33m)\u001b[0m\u001b[1;33m\u001b[0m\u001b[0m\n\u001b[0m\u001b[0;32m    859\u001b[0m         \u001b[1;32mif\u001b[0m \u001b[0mX\u001b[0m\u001b[1;33m.\u001b[0m\u001b[0mshape\u001b[0m\u001b[1;33m[\u001b[0m\u001b[1;36m0\u001b[0m\u001b[1;33m]\u001b[0m \u001b[1;33m<\u001b[0m \u001b[0mself\u001b[0m\u001b[1;33m.\u001b[0m\u001b[0mn_clusters\u001b[0m\u001b[1;33m:\u001b[0m\u001b[1;33m\u001b[0m\u001b[0m\n\u001b[0;32m    860\u001b[0m             raise ValueError(\"n_samples=%d should be >= n_clusters=%d\" % (\n",
      "\u001b[1;32m~\\Anaconda3\\lib\\site-packages\\sklearn\\utils\\validation.py\u001b[0m in \u001b[0;36mcheck_array\u001b[1;34m(array, accept_sparse, dtype, order, copy, force_all_finite, ensure_2d, allow_nd, ensure_min_samples, ensure_min_features, warn_on_dtype, estimator)\u001b[0m\n\u001b[0;32m    431\u001b[0m                                       force_all_finite)\n\u001b[0;32m    432\u001b[0m     \u001b[1;32melse\u001b[0m\u001b[1;33m:\u001b[0m\u001b[1;33m\u001b[0m\u001b[0m\n\u001b[1;32m--> 433\u001b[1;33m         \u001b[0marray\u001b[0m \u001b[1;33m=\u001b[0m \u001b[0mnp\u001b[0m\u001b[1;33m.\u001b[0m\u001b[0marray\u001b[0m\u001b[1;33m(\u001b[0m\u001b[0marray\u001b[0m\u001b[1;33m,\u001b[0m \u001b[0mdtype\u001b[0m\u001b[1;33m=\u001b[0m\u001b[0mdtype\u001b[0m\u001b[1;33m,\u001b[0m \u001b[0morder\u001b[0m\u001b[1;33m=\u001b[0m\u001b[0morder\u001b[0m\u001b[1;33m,\u001b[0m \u001b[0mcopy\u001b[0m\u001b[1;33m=\u001b[0m\u001b[0mcopy\u001b[0m\u001b[1;33m)\u001b[0m\u001b[1;33m\u001b[0m\u001b[0m\n\u001b[0m\u001b[0;32m    434\u001b[0m \u001b[1;33m\u001b[0m\u001b[0m\n\u001b[0;32m    435\u001b[0m         \u001b[1;32mif\u001b[0m \u001b[0mensure_2d\u001b[0m\u001b[1;33m:\u001b[0m\u001b[1;33m\u001b[0m\u001b[0m\n",
      "\u001b[1;31mTypeError\u001b[0m: float() argument must be a string or a number, not 'Timestamp'"
     ]
    }
   ],
   "source": [
    "kmeans=KMeans(n_clusters=i,init=\"k-means++\",max_iter=300,n_init=10,random_state=0)\n",
    "kmeans.fit(data.values)"
   ]
  },
  {
   "cell_type": "code",
   "execution_count": null,
   "metadata": {
    "collapsed": true
   },
   "outputs": [],
   "source": []
  },
  {
   "cell_type": "code",
   "execution_count": null,
   "metadata": {
    "collapsed": true
   },
   "outputs": [],
   "source": []
  }
 ],
 "metadata": {
  "kernelspec": {
   "display_name": "Python 3",
   "language": "python",
   "name": "python3"
  },
  "language_info": {
   "codemirror_mode": {
    "name": "ipython",
    "version": 3
   },
   "file_extension": ".py",
   "mimetype": "text/x-python",
   "name": "python",
   "nbconvert_exporter": "python",
   "pygments_lexer": "ipython3",
   "version": "3.6.3"
  }
 },
 "nbformat": 4,
 "nbformat_minor": 2
}
