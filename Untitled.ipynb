{
 "cells": [
  {
   "cell_type": "code",
   "execution_count": 1,
   "metadata": {
    "collapsed": true
   },
   "outputs": [],
   "source": [
    "import numpy as np\n",
    "import pandas as pd\n",
    "import matplotlib.pyplot as plt"
   ]
  },
  {
   "cell_type": "code",
   "execution_count": 85,
   "metadata": {
    "collapsed": true
   },
   "outputs": [],
   "source": [
    "data=pd.read_excel(\"Data Science.xlsx\",sheetname=\"Sheet1\",na_values=\"0\")"
   ]
  },
  {
   "cell_type": "code",
   "execution_count": 86,
   "metadata": {},
   "outputs": [
    {
     "data": {
      "text/html": [
       "<div>\n",
       "<style>\n",
       "    .dataframe thead tr:only-child th {\n",
       "        text-align: right;\n",
       "    }\n",
       "\n",
       "    .dataframe thead th {\n",
       "        text-align: left;\n",
       "    }\n",
       "\n",
       "    .dataframe tbody tr th {\n",
       "        vertical-align: top;\n",
       "    }\n",
       "</style>\n",
       "<table border=\"1\" class=\"dataframe\">\n",
       "  <thead>\n",
       "    <tr style=\"text-align: right;\">\n",
       "      <th></th>\n",
       "      <th>User id</th>\n",
       "      <th>Category</th>\n",
       "      <th>Product</th>\n",
       "      <th>Ordered Date</th>\n",
       "      <th>Price Spent</th>\n",
       "    </tr>\n",
       "  </thead>\n",
       "  <tbody>\n",
       "    <tr>\n",
       "      <th>0</th>\n",
       "      <td>2</td>\n",
       "      <td>Electronics</td>\n",
       "      <td>TV</td>\n",
       "      <td>2017-09-23</td>\n",
       "      <td>20000</td>\n",
       "    </tr>\n",
       "    <tr>\n",
       "      <th>1</th>\n",
       "      <td>1</td>\n",
       "      <td>Groceries</td>\n",
       "      <td>Rice</td>\n",
       "      <td>2017-09-24</td>\n",
       "      <td>1500</td>\n",
       "    </tr>\n",
       "    <tr>\n",
       "      <th>2</th>\n",
       "      <td>4</td>\n",
       "      <td>Transit</td>\n",
       "      <td>Cab Booking</td>\n",
       "      <td>2017-09-24</td>\n",
       "      <td>300</td>\n",
       "    </tr>\n",
       "    <tr>\n",
       "      <th>3</th>\n",
       "      <td>1</td>\n",
       "      <td>Electronics</td>\n",
       "      <td>Mobile</td>\n",
       "      <td>2017-09-25</td>\n",
       "      <td>15000</td>\n",
       "    </tr>\n",
       "    <tr>\n",
       "      <th>4</th>\n",
       "      <td>3</td>\n",
       "      <td>Groceries</td>\n",
       "      <td>Atta</td>\n",
       "      <td>2017-09-25</td>\n",
       "      <td>500</td>\n",
       "    </tr>\n",
       "  </tbody>\n",
       "</table>\n",
       "</div>"
      ],
      "text/plain": [
       "   User id     Category      Product Ordered Date  Price Spent\n",
       "0        2  Electronics           TV   2017-09-23        20000\n",
       "1        1    Groceries         Rice   2017-09-24         1500\n",
       "2        4      Transit  Cab Booking   2017-09-24          300\n",
       "3        1  Electronics       Mobile   2017-09-25        15000\n",
       "4        3    Groceries         Atta   2017-09-25          500"
      ]
     },
     "execution_count": 86,
     "metadata": {},
     "output_type": "execute_result"
    }
   ],
   "source": [
    "data.head()"
   ]
  },
  {
   "cell_type": "code",
   "execution_count": 5,
   "metadata": {},
   "outputs": [
    {
     "name": "stdout",
     "output_type": "stream",
     "text": [
      "<class 'pandas.core.frame.DataFrame'>\n",
      "RangeIndex: 42 entries, 0 to 41\n",
      "Data columns (total 5 columns):\n",
      "User id         42 non-null int64\n",
      "Category        42 non-null object\n",
      "Product         42 non-null object\n",
      "Ordered Date    42 non-null datetime64[ns]\n",
      "Price Spent     42 non-null int64\n",
      "dtypes: datetime64[ns](1), int64(2), object(2)\n",
      "memory usage: 1.7+ KB\n"
     ]
    }
   ],
   "source": [
    "data.info()"
   ]
  },
  {
   "cell_type": "code",
   "execution_count": 6,
   "metadata": {},
   "outputs": [
    {
     "data": {
      "text/html": [
       "<div>\n",
       "<style>\n",
       "    .dataframe thead tr:only-child th {\n",
       "        text-align: right;\n",
       "    }\n",
       "\n",
       "    .dataframe thead th {\n",
       "        text-align: left;\n",
       "    }\n",
       "\n",
       "    .dataframe tbody tr th {\n",
       "        vertical-align: top;\n",
       "    }\n",
       "</style>\n",
       "<table border=\"1\" class=\"dataframe\">\n",
       "  <thead>\n",
       "    <tr style=\"text-align: right;\">\n",
       "      <th></th>\n",
       "      <th>User id</th>\n",
       "      <th>Price Spent</th>\n",
       "    </tr>\n",
       "  </thead>\n",
       "  <tbody>\n",
       "    <tr>\n",
       "      <th>count</th>\n",
       "      <td>42.000000</td>\n",
       "      <td>42.000000</td>\n",
       "    </tr>\n",
       "    <tr>\n",
       "      <th>mean</th>\n",
       "      <td>2.547619</td>\n",
       "      <td>6745.238095</td>\n",
       "    </tr>\n",
       "    <tr>\n",
       "      <th>std</th>\n",
       "      <td>1.108776</td>\n",
       "      <td>11377.324525</td>\n",
       "    </tr>\n",
       "    <tr>\n",
       "      <th>min</th>\n",
       "      <td>1.000000</td>\n",
       "      <td>200.000000</td>\n",
       "    </tr>\n",
       "    <tr>\n",
       "      <th>25%</th>\n",
       "      <td>2.000000</td>\n",
       "      <td>500.000000</td>\n",
       "    </tr>\n",
       "    <tr>\n",
       "      <th>50%</th>\n",
       "      <td>2.500000</td>\n",
       "      <td>1650.000000</td>\n",
       "    </tr>\n",
       "    <tr>\n",
       "      <th>75%</th>\n",
       "      <td>3.750000</td>\n",
       "      <td>9000.000000</td>\n",
       "    </tr>\n",
       "    <tr>\n",
       "      <th>max</th>\n",
       "      <td>4.000000</td>\n",
       "      <td>50000.000000</td>\n",
       "    </tr>\n",
       "  </tbody>\n",
       "</table>\n",
       "</div>"
      ],
      "text/plain": [
       "         User id   Price Spent\n",
       "count  42.000000     42.000000\n",
       "mean    2.547619   6745.238095\n",
       "std     1.108776  11377.324525\n",
       "min     1.000000    200.000000\n",
       "25%     2.000000    500.000000\n",
       "50%     2.500000   1650.000000\n",
       "75%     3.750000   9000.000000\n",
       "max     4.000000  50000.000000"
      ]
     },
     "execution_count": 6,
     "metadata": {},
     "output_type": "execute_result"
    }
   ],
   "source": [
    "data.describe()"
   ]
  },
  {
   "cell_type": "code",
   "execution_count": 87,
   "metadata": {},
   "outputs": [
    {
     "data": {
      "text/plain": [
       "Electronics             10\n",
       "Apparels                 9\n",
       "Transit                  9\n",
       "Movies/Entertainment     7\n",
       "Groceries                7\n",
       "Name: Category, dtype: int64"
      ]
     },
     "execution_count": 87,
     "metadata": {},
     "output_type": "execute_result"
    }
   ],
   "source": [
    "data[\"Category\"].value_counts()"
   ]
  },
  {
   "cell_type": "code",
   "execution_count": 88,
   "metadata": {},
   "outputs": [
    {
     "data": {
      "text/plain": [
       "User id         0\n",
       "Category        0\n",
       "Product         0\n",
       "Ordered Date    0\n",
       "Price Spent     0\n",
       "dtype: int64"
      ]
     },
     "execution_count": 88,
     "metadata": {},
     "output_type": "execute_result"
    }
   ],
   "source": [
    "data.isnull().sum()"
   ]
  },
  {
   "cell_type": "code",
   "execution_count": 89,
   "metadata": {},
   "outputs": [
    {
     "data": {
      "text/plain": [
       "Cab Booking      9\n",
       "Clothing         9\n",
       "Movie Booking    7\n",
       "Mobile           5\n",
       "Rice             3\n",
       "Atta             2\n",
       "Dal              2\n",
       "Refrigerator     2\n",
       "TV               1\n",
       "Tv               1\n",
       "Oven             1\n",
       "Name: Product, dtype: int64"
      ]
     },
     "execution_count": 89,
     "metadata": {},
     "output_type": "execute_result"
    }
   ],
   "source": [
    "data[\"Product\"].value_counts()"
   ]
  },
  {
   "cell_type": "code",
   "execution_count": 90,
   "metadata": {},
   "outputs": [
    {
     "name": "stdout",
     "output_type": "stream",
     "text": [
      "42\n"
     ]
    },
    {
     "data": {
      "text/plain": [
       "'Atta'"
      ]
     },
     "execution_count": 90,
     "metadata": {},
     "output_type": "execute_result"
    }
   ],
   "source": [
    "print(len(data))\n",
    "data[\"Product\"].iloc([4])\n",
    "data[\"Product\"][4]"
   ]
  },
  {
   "cell_type": "code",
   "execution_count": 93,
   "metadata": {},
   "outputs": [
    {
     "name": "stderr",
     "output_type": "stream",
     "text": [
      "C:\\Users\\merus\\Anaconda3\\lib\\site-packages\\ipykernel_launcher.py:3: SettingWithCopyWarning: \n",
      "A value is trying to be set on a copy of a slice from a DataFrame\n",
      "\n",
      "See the caveats in the documentation: http://pandas.pydata.org/pandas-docs/stable/indexing.html#indexing-view-versus-copy\n",
      "  This is separate from the ipykernel package so we can avoid doing imports until\n"
     ]
    }
   ],
   "source": [
    "for i in range(len(data[\"Product\"])):\n",
    "    if data[\"Product\"][i]==\"Tv\": \n",
    "        data[\"Product\"][i]=\"TV\"\n",
    "       # data[j] =data[j].map(lambda j: j.upper())"
   ]
  },
  {
   "cell_type": "code",
   "execution_count": 118,
   "metadata": {},
   "outputs": [
    {
     "data": {
      "text/plain": [
       "0                TV\n",
       "1              Rice\n",
       "2       Cab Booking\n",
       "3            Mobile\n",
       "4              Atta\n",
       "5          Clothing\n",
       "6               Dal\n",
       "7      Refrigerator\n",
       "8       Cab Booking\n",
       "9     Movie Booking\n",
       "10           Mobile\n",
       "11    Movie Booking\n",
       "12             Rice\n",
       "13    Movie Booking\n",
       "14    Movie Booking\n",
       "15      Cab Booking\n",
       "16         Clothing\n",
       "17      Cab Booking\n",
       "18         Clothing\n",
       "19         Clothing\n",
       "20           Mobile\n",
       "21             Atta\n",
       "22    Movie Booking\n",
       "23         Clothing\n",
       "24             Rice\n",
       "25         Clothing\n",
       "26      Cab Booking\n",
       "27              Dal\n",
       "28    Movie Booking\n",
       "29      Cab Booking\n",
       "30           Mobile\n",
       "31    Movie Booking\n",
       "32               TV\n",
       "33         Clothing\n",
       "34     Refrigerator\n",
       "35      Cab Booking\n",
       "36           Mobile\n",
       "37         Clothing\n",
       "38      Cab Booking\n",
       "39      Cab Booking\n",
       "40             Oven\n",
       "41         Clothing\n",
       "Name: Product, dtype: object"
      ]
     },
     "execution_count": 118,
     "metadata": {},
     "output_type": "execute_result"
    }
   ],
   "source": [
    "data[\"Product\"]\n",
    "#data[\"Product\"][32]"
   ]
  },
  {
   "cell_type": "code",
   "execution_count": 96,
   "metadata": {},
   "outputs": [
    {
     "data": {
      "text/plain": [
       "Cab Booking      9\n",
       "Clothing         9\n",
       "Movie Booking    7\n",
       "Mobile           5\n",
       "Rice             3\n",
       "Atta             2\n",
       "TV               2\n",
       "Dal              2\n",
       "Refrigerator     2\n",
       "Oven             1\n",
       "Name: Product, dtype: int64"
      ]
     },
     "execution_count": 96,
     "metadata": {},
     "output_type": "execute_result"
    }
   ],
   "source": [
    "data[\"Product\"].value_counts()"
   ]
  },
  {
   "cell_type": "code",
   "execution_count": 119,
   "metadata": {},
   "outputs": [
    {
     "name": "stdout",
     "output_type": "stream",
     "text": [
      "Category              Product      \n",
      "Apparels              Clothing         20000\n",
      "Electronics           Mobile           20000\n",
      "                      Oven              6000\n",
      "                      Refrigerator     50000\n",
      "                      TV               40000\n",
      "Groceries             Atta               500\n",
      "                      Dal               2000\n",
      "                      Rice              1800\n",
      "Movies/Entertainment  Movie Booking     1200\n",
      "Transit               Cab Booking       1000\n",
      "Name: Price Spent, dtype: int64\n"
     ]
    }
   ],
   "source": [
    "#estimatiing the max price spent by users for each product in categories\n",
    "print(data.groupby([\"Category\",\"Product\"])[\"Price Spent\"].max())"
   ]
  },
  {
   "cell_type": "code",
   "execution_count": 124,
   "metadata": {},
   "outputs": [
    {
     "name": "stdout",
     "output_type": "stream",
     "text": [
      "Category              Product      \n",
      "Apparels              Clothing         9\n",
      "Electronics           Mobile           5\n",
      "                      Oven             1\n",
      "                      Refrigerator     2\n",
      "                      TV               2\n",
      "Groceries             Atta             2\n",
      "                      Dal              2\n",
      "                      Rice             3\n",
      "Movies/Entertainment  Movie Booking    7\n",
      "Transit               Cab Booking      9\n",
      "Name: User id, dtype: int64\n"
     ]
    }
   ],
   "source": [
    "print(data.groupby([\"Category\",\"Product\"])[\"User id\"].count())"
   ]
  },
  {
   "cell_type": "code",
   "execution_count": 147,
   "metadata": {
    "scrolled": true
   },
   "outputs": [],
   "source": [
    "#seggrigating by categories\n",
    "categories_data=data.groupby(\"Category\")"
   ]
  },
  {
   "cell_type": "code",
   "execution_count": 148,
   "metadata": {},
   "outputs": [],
   "source": [
    "t=(group.sort_index(by=\"User id\", ascending=True) for Product,group in categories_data)"
   ]
  },
  {
   "cell_type": "code",
   "execution_count": 149,
   "metadata": {},
   "outputs": [
    {
     "name": "stderr",
     "output_type": "stream",
     "text": [
      "C:\\Users\\merus\\Anaconda3\\lib\\site-packages\\ipykernel_launcher.py:1: FutureWarning: by argument to sort_index is deprecated, pls use .sort_values(by=...)\n",
      "  \"\"\"Entry point for launching an IPython kernel.\n"
     ]
    },
    {
     "name": "stdout",
     "output_type": "stream",
     "text": [
      "    User id  Category   Product Ordered Date  Price Spent\n",
      "16        1  Apparels  Clothing   2017-10-07         2000\n",
      "5         2  Apparels  Clothing   2017-09-26         2500\n",
      "33        2  Apparels  Clothing   2017-10-19        20000\n",
      "37        2  Apparels  Clothing   2017-10-20         2000\n",
      "18        3  Apparels  Clothing   2017-10-10         2000\n",
      "23        3  Apparels  Clothing   2017-10-13        10000\n",
      "19        4  Apparels  Clothing   2017-10-10         3000\n",
      "25        4  Apparels  Clothing   2017-10-14         3000\n",
      "41        4  Apparels  Clothing   2017-10-22         2000\n",
      "    User id     Category       Product Ordered Date  Price Spent\n",
      "3         1  Electronics        Mobile   2017-09-25        15000\n",
      "30        1  Electronics        Mobile   2017-10-16        10000\n",
      "36        1  Electronics        Mobile   2017-10-20        20000\n",
      "0         2  Electronics            TV   2017-09-23        20000\n",
      "20        2  Electronics        Mobile   2017-10-11        10000\n",
      "40        2  Electronics          Oven   2017-10-22         6000\n",
      "7         3  Electronics  Refrigerator   2017-09-28        30000\n",
      "10        4  Electronics        Mobile   2017-10-02        20000\n",
      "32        4  Electronics            TV   2017-10-16        40000\n",
      "34        4  Electronics  Refrigerator   2017-10-19        50000\n",
      "    User id   Category Product Ordered Date  Price Spent\n",
      "1         1  Groceries    Rice   2017-09-24         1500\n",
      "21        1  Groceries    Atta   2017-10-11          200\n",
      "12        2  Groceries    Rice   2017-10-03         1800\n",
      "27        2  Groceries     Dal   2017-10-14          400\n",
      "4         3  Groceries    Atta   2017-09-25          500\n",
      "24        3  Groceries    Rice   2017-10-13         1200\n",
      "6         4  Groceries     Dal   2017-09-28         2000\n",
      "    User id              Category        Product Ordered Date  Price Spent\n",
      "13        1  Movies/Entertainment  Movie Booking   2017-10-04          900\n",
      "9         2  Movies/Entertainment  Movie Booking   2017-09-30         1200\n",
      "28        2  Movies/Entertainment  Movie Booking   2017-10-14          600\n",
      "11        3  Movies/Entertainment  Movie Booking   2017-10-02          600\n",
      "31        3  Movies/Entertainment  Movie Booking   2017-10-16          300\n",
      "14        4  Movies/Entertainment  Movie Booking   2017-10-04          500\n",
      "22        4  Movies/Entertainment  Movie Booking   2017-10-12          500\n",
      "    User id Category      Product Ordered Date  Price Spent\n",
      "8         1  Transit  Cab Booking   2017-09-29         1000\n",
      "29        1  Transit  Cab Booking   2017-10-16          200\n",
      "17        2  Transit  Cab Booking   2017-10-08          400\n",
      "26        2  Transit  Cab Booking   2017-10-14          300\n",
      "15        3  Transit  Cab Booking   2017-10-05          300\n",
      "35        3  Transit  Cab Booking   2017-10-19          500\n",
      "38        3  Transit  Cab Booking   2017-10-20          200\n",
      "2         4  Transit  Cab Booking   2017-09-24          300\n",
      "39        4  Transit  Cab Booking   2017-10-20          400\n"
     ]
    }
   ],
   "source": [
    "for i in t:\n",
    "    print(i)"
   ]
  },
  {
   "cell_type": "code",
   "execution_count": 173,
   "metadata": {
    "collapsed": true
   },
   "outputs": [],
   "source": [
    "#seggrigating by users\n",
    "Users_data=data.groupby(\"User id\")"
   ]
  },
  {
   "cell_type": "code",
   "execution_count": 174,
   "metadata": {},
   "outputs": [],
   "source": [
    "p=(group.sort_index(by=\"Category\", ascending=True) for Product,group in Users_data)"
   ]
  },
  {
   "cell_type": "code",
   "execution_count": 175,
   "metadata": {},
   "outputs": [
    {
     "name": "stdout",
     "output_type": "stream",
     "text": [
      "    User id              Category        Product Ordered Date  Price Spent\n",
      "16        1              Apparels       Clothing   2017-10-07         2000\n",
      "3         1           Electronics         Mobile   2017-09-25        15000\n",
      "30        1           Electronics         Mobile   2017-10-16        10000\n",
      "36        1           Electronics         Mobile   2017-10-20        20000\n",
      "1         1             Groceries           Rice   2017-09-24         1500\n",
      "21        1             Groceries           Atta   2017-10-11          200\n",
      "13        1  Movies/Entertainment  Movie Booking   2017-10-04          900\n",
      "8         1               Transit    Cab Booking   2017-09-29         1000\n",
      "29        1               Transit    Cab Booking   2017-10-16          200\n",
      "    User id              Category        Product Ordered Date  Price Spent\n",
      "5         2              Apparels       Clothing   2017-09-26         2500\n",
      "33        2              Apparels       Clothing   2017-10-19        20000\n",
      "37        2              Apparels       Clothing   2017-10-20         2000\n",
      "0         2           Electronics             TV   2017-09-23        20000\n",
      "20        2           Electronics         Mobile   2017-10-11        10000\n",
      "40        2           Electronics           Oven   2017-10-22         6000\n",
      "12        2             Groceries           Rice   2017-10-03         1800\n",
      "27        2             Groceries            Dal   2017-10-14          400\n",
      "9         2  Movies/Entertainment  Movie Booking   2017-09-30         1200\n",
      "28        2  Movies/Entertainment  Movie Booking   2017-10-14          600\n",
      "17        2               Transit    Cab Booking   2017-10-08          400\n",
      "26        2               Transit    Cab Booking   2017-10-14          300\n",
      "    User id              Category        Product Ordered Date  Price Spent\n",
      "18        3              Apparels       Clothing   2017-10-10         2000\n",
      "23        3              Apparels       Clothing   2017-10-13        10000\n",
      "7         3           Electronics   Refrigerator   2017-09-28        30000\n",
      "4         3             Groceries           Atta   2017-09-25          500\n",
      "24        3             Groceries           Rice   2017-10-13         1200\n",
      "11        3  Movies/Entertainment  Movie Booking   2017-10-02          600\n",
      "31        3  Movies/Entertainment  Movie Booking   2017-10-16          300\n",
      "15        3               Transit    Cab Booking   2017-10-05          300\n",
      "35        3               Transit    Cab Booking   2017-10-19          500\n",
      "38        3               Transit    Cab Booking   2017-10-20          200\n",
      "    User id              Category        Product Ordered Date  Price Spent\n",
      "19        4              Apparels       Clothing   2017-10-10         3000\n",
      "25        4              Apparels       Clothing   2017-10-14         3000\n",
      "41        4              Apparels       Clothing   2017-10-22         2000\n",
      "10        4           Electronics         Mobile   2017-10-02        20000\n",
      "32        4           Electronics             TV   2017-10-16        40000\n",
      "34        4           Electronics   Refrigerator   2017-10-19        50000\n",
      "6         4             Groceries            Dal   2017-09-28         2000\n",
      "14        4  Movies/Entertainment  Movie Booking   2017-10-04          500\n",
      "22        4  Movies/Entertainment  Movie Booking   2017-10-12          500\n",
      "2         4               Transit    Cab Booking   2017-09-24          300\n",
      "39        4               Transit    Cab Booking   2017-10-20          400\n"
     ]
    },
    {
     "name": "stderr",
     "output_type": "stream",
     "text": [
      "C:\\Users\\merus\\Anaconda3\\lib\\site-packages\\ipykernel_launcher.py:1: FutureWarning: by argument to sort_index is deprecated, pls use .sort_values(by=...)\n",
      "  \"\"\"Entry point for launching an IPython kernel.\n"
     ]
    }
   ],
   "source": [
    "for i in p:\n",
    "    print(i)"
   ]
  },
  {
   "cell_type": "code",
   "execution_count": 179,
   "metadata": {},
   "outputs": [
    {
     "ename": "AttributeError",
     "evalue": "'generator' object has no attribute 'apply'",
     "output_type": "error",
     "traceback": [
      "\u001b[1;31m---------------------------------------------------------------------------\u001b[0m",
      "\u001b[1;31mAttributeError\u001b[0m                            Traceback (most recent call last)",
      "\u001b[1;32m<ipython-input-179-48a9997389de>\u001b[0m in \u001b[0;36m<module>\u001b[1;34m()\u001b[0m\n\u001b[1;32m----> 1\u001b[1;33m \u001b[0mp\u001b[0m\u001b[1;33m=\u001b[0m\u001b[1;33m(\u001b[0m\u001b[0mgroup\u001b[0m\u001b[1;33m.\u001b[0m\u001b[0msort_index\u001b[0m\u001b[1;33m(\u001b[0m\u001b[0mby\u001b[0m\u001b[1;33m=\u001b[0m\u001b[1;34m\"Category\"\u001b[0m\u001b[1;33m,\u001b[0m \u001b[0mascending\u001b[0m\u001b[1;33m=\u001b[0m\u001b[1;32mTrue\u001b[0m\u001b[1;33m)\u001b[0m \u001b[1;32mfor\u001b[0m \u001b[0mProduct\u001b[0m\u001b[1;33m,\u001b[0m\u001b[0mgroup\u001b[0m \u001b[1;32min\u001b[0m \u001b[0mUsers_data\u001b[0m\u001b[1;33m)\u001b[0m\u001b[1;33m.\u001b[0m\u001b[0mapply\u001b[0m\u001b[1;33m(\u001b[0m\u001b[0mmean\u001b[0m\u001b[1;33m,\u001b[0m \u001b[0maxis\u001b[0m\u001b[1;33m=\u001b[0m\u001b[1;36m0\u001b[0m\u001b[1;33m)\u001b[0m\u001b[1;33m\u001b[0m\u001b[0m\n\u001b[0m",
      "\u001b[1;31mAttributeError\u001b[0m: 'generator' object has no attribute 'apply'"
     ]
    }
   ],
   "source": [
    "p=(group.sort_index(by=\"Category\", ascending=True) for Product,group in Users_data).apply(mean, axis=0)"
   ]
  },
  {
   "cell_type": "code",
   "execution_count": 178,
   "metadata": {},
   "outputs": [
    {
     "ename": "AttributeError",
     "evalue": "'generator' object has no attribute 'all'",
     "output_type": "error",
     "traceback": [
      "\u001b[1;31m---------------------------------------------------------------------------\u001b[0m",
      "\u001b[1;31mAttributeError\u001b[0m                            Traceback (most recent call last)",
      "\u001b[1;32m<ipython-input-178-09e1873f3ca7>\u001b[0m in \u001b[0;36m<module>\u001b[1;34m()\u001b[0m\n\u001b[1;32m----> 1\u001b[1;33m \u001b[1;32mfor\u001b[0m \u001b[0mi\u001b[0m \u001b[1;32min\u001b[0m \u001b[0mp\u001b[0m\u001b[1;33m.\u001b[0m\u001b[0mall\u001b[0m\u001b[1;33m(\u001b[0m\u001b[1;33m)\u001b[0m\u001b[1;33m:\u001b[0m\u001b[1;33m\u001b[0m\u001b[0m\n\u001b[0m\u001b[0;32m      2\u001b[0m     \u001b[0mprint\u001b[0m\u001b[1;33m(\u001b[0m\u001b[0mi\u001b[0m\u001b[1;33m.\u001b[0m\u001b[0mapply\u001b[0m\u001b[1;33m(\u001b[0m\u001b[1;32mlambda\u001b[0m \u001b[0mx\u001b[0m\u001b[1;33m:\u001b[0m\u001b[0mx\u001b[0m\u001b[1;33m.\u001b[0m\u001b[0mmean\u001b[0m\u001b[1;33m(\u001b[0m\u001b[1;33m)\u001b[0m\u001b[1;33m)\u001b[0m\u001b[1;33m)\u001b[0m\u001b[1;33m\u001b[0m\u001b[0m\n",
      "\u001b[1;31mAttributeError\u001b[0m: 'generator' object has no attribute 'all'"
     ]
    }
   ],
   "source": [
    "for i in p.all():\n",
    "    print(i.apply(mean()))"
   ]
  },
  {
   "cell_type": "code",
   "execution_count": null,
   "metadata": {
    "collapsed": true
   },
   "outputs": [],
   "source": []
  }
 ],
 "metadata": {
  "kernelspec": {
   "display_name": "Python 3",
   "language": "python",
   "name": "python3"
  },
  "language_info": {
   "codemirror_mode": {
    "name": "ipython",
    "version": 3
   },
   "file_extension": ".py",
   "mimetype": "text/x-python",
   "name": "python",
   "nbconvert_exporter": "python",
   "pygments_lexer": "ipython3",
   "version": "3.6.3"
  }
 },
 "nbformat": 4,
 "nbformat_minor": 2
}
